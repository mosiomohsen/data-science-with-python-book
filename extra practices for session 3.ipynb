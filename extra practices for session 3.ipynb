{
  "nbformat": 4,
  "nbformat_minor": 0,
  "metadata": {
    "colab": {
      "name": "extra practices for session 3.ipynb",
      "provenance": [],
      "collapsed_sections": []
    },
    "kernelspec": {
      "name": "python3",
      "display_name": "Python 3"
    },
    "language_info": {
      "name": "python"
    }
  },
  "cells": [
    {
      "cell_type": "markdown",
      "source": [
        "\n",
        "# ***if Condition***\n",
        "\n",
        "\n",
        "\n",
        "\n",
        "\n",
        "\n",
        "\n"
      ],
      "metadata": {
        "id": "ebwvWwBWpLq8"
      }
    },
    {
      "cell_type": "markdown",
      "source": [
        "<div dir=\"rtl\">\n",
        "زوج یا فرد بودن a را بررسی کرده و پیغام مناسب چاپ کنید.\n",
        "</div>"
      ],
      "metadata": {
        "id": "RkJXeLKMo75R"
      }
    },
    {
      "cell_type": "code",
      "execution_count": 1,
      "metadata": {
        "colab": {
          "base_uri": "https://localhost:8080/"
        },
        "id": "X-u2_UyHpYUV",
        "outputId": "b613a76a-6f79-43d3-f3ac-04328bf64100"
      },
      "outputs": [
        {
          "output_type": "stream",
          "name": "stdout",
          "text": [
            "a is odd\n"
          ]
        }
      ],
      "source": [
        "a = 21\n",
        "if a%2==0:\n",
        "  print('a is even.')\n",
        "else:\n",
        "  print('a is odd.')"
      ]
    },
    {
      "cell_type": "markdown",
      "source": [
        "<div dir=\"rtl\">\n",
        "آیا a عددی دو رقمی است؟</div>"
      ],
      "metadata": {
        "id": "UNGBww4IAUjy"
      }
    },
    {
      "cell_type": "code",
      "source": [
        "a = 12\n",
        "if (a>9) & (a<100):\n",
        "  print('a has two digits.')\n",
        "else:\n",
        "  print(\"a hasn't two digits.\")"
      ],
      "metadata": {
        "colab": {
          "base_uri": "https://localhost:8080/"
        },
        "id": "gVqTxmolqwBP",
        "outputId": "f46fcc9a-c606-4d98-f8e0-1e8ca6549fbe"
      },
      "execution_count": 2,
      "outputs": [
        {
          "output_type": "stream",
          "name": "stdout",
          "text": [
            "a has two digits\n"
          ]
        }
      ]
    },
    {
      "cell_type": "markdown",
      "source": [
        "<div dir=\"rtl\">\n",
        "آیا نامی که در متغیر name ذخیره شده با Ali شروع شده است؟</div>"
      ],
      "metadata": {
        "id": "hZ1QhX41BWPc"
      }
    },
    {
      "cell_type": "code",
      "source": [
        "name = 'AliReza'\n",
        "if name.startswith('Ali'):\n",
        "  print('Yes!')\n",
        "else:\n",
        "  print('No!')"
      ],
      "metadata": {
        "colab": {
          "base_uri": "https://localhost:8080/"
        },
        "id": "be90TtEGq6cM",
        "outputId": "9ce64e79-00fc-4d55-aa8e-5a0130ebcb81"
      },
      "execution_count": 3,
      "outputs": [
        {
          "output_type": "stream",
          "name": "stdout",
          "text": [
            "Yes!\n"
          ]
        }
      ]
    },
    {
      "cell_type": "markdown",
      "source": [
        "<div dir=\"rtl\">\n",
        "آیا کاراکتر x در متغیر رشته ای s وجود دارد یا خیر؟</div>"
      ],
      "metadata": {
        "id": "SUxU0C2yCfF-"
      }
    },
    {
      "cell_type": "code",
      "source": [
        "s = 'xavi'\n",
        "if 'x' in s:\n",
        "  print('s has character x.')\n",
        "else:\n",
        "  print(\"s hasn't character x.\")"
      ],
      "metadata": {
        "colab": {
          "base_uri": "https://localhost:8080/"
        },
        "id": "mg6G1B-arClm",
        "outputId": "5ee77ec6-488a-4ffd-b592-56907ff72959"
      },
      "execution_count": 4,
      "outputs": [
        {
          "output_type": "stream",
          "name": "stdout",
          "text": [
            "s has character x.\n"
          ]
        }
      ]
    },
    {
      "cell_type": "markdown",
      "source": [
        "<div dir=\"rtl\">\n",
        "با داشتن شماره روز هفته نام روز را چاپ کنید.\n",
        "</div>"
      ],
      "metadata": {
        "id": "GOOXmqtSharQ"
      }
    },
    {
      "cell_type": "code",
      "source": [
        "weekday = 3\n",
        "if weekday == 1 :\n",
        "    print(\"Monday\");\n",
        "elif weekday == 2 :\n",
        "    print(\"Tuesday\")\n",
        "elif(weekday == 3) :\n",
        "    print(\"Wednesday\")\n",
        "elif(weekday == 4) :\n",
        "    print(\"Thursday\")\n",
        "elif(weekday == 5) :\n",
        "    print(\"Friday\")\n",
        "elif(weekday == 6) :\n",
        "    print(\"Saturday\")\n",
        "elif (weekday == 7) :\n",
        "    print(\"Sunday\")\n",
        "else :\n",
        "    print(\"weekday is wrong!\")"
      ],
      "metadata": {
        "colab": {
          "base_uri": "https://localhost:8080/"
        },
        "id": "OdChiOZXrIJ1",
        "outputId": "a16b65a2-5e27-4fbd-96b3-31ba470823c9"
      },
      "execution_count": 5,
      "outputs": [
        {
          "output_type": "stream",
          "name": "stdout",
          "text": [
            "Wednesday\n"
          ]
        }
      ]
    },
    {
      "cell_type": "markdown",
      "source": [
        "<div dir=\"rtl\">\n",
        "منفی، مثبت یا صفر بودن a را به کمک ifهای تودرتو تشخیص دهید.</div>"
      ],
      "metadata": {
        "id": "ByAznOhmlx4Q"
      }
    },
    {
      "cell_type": "code",
      "source": [
        "a = -2\n",
        "if a>0:\n",
        "  print('a is positive.')\n",
        "else:\n",
        "  if a == 0:\n",
        "    print('a is zero.')\n",
        "  else:\n",
        "    print('a is negative.')"
      ],
      "metadata": {
        "colab": {
          "base_uri": "https://localhost:8080/"
        },
        "id": "7ijUvBAJrKyG",
        "outputId": "91a005fc-fde6-4b3c-9eb7-02c59a7eea05"
      },
      "execution_count": 6,
      "outputs": [
        {
          "output_type": "stream",
          "name": "stdout",
          "text": [
            "a is negative.\n"
          ]
        }
      ]
    },
    {
      "cell_type": "markdown",
      "source": [
        "# ***for Condition***"
      ],
      "metadata": {
        "id": "vI4gzF5vqJDQ"
      }
    },
    {
      "cell_type": "markdown",
      "source": [
        "<div dir=\"rtl\">\n",
        "تمام میوه های لیست fruits را چاپ کنید.</div>"
      ],
      "metadata": {
        "id": "V_cA711buBOA"
      }
    },
    {
      "cell_type": "code",
      "source": [
        "fruits = [\"apple\", \"banana\", \"cherry\", \"mongo\"]\n",
        "for f in fruits:\n",
        "  print(f)"
      ],
      "metadata": {
        "colab": {
          "base_uri": "https://localhost:8080/"
        },
        "id": "fgzWoJaNqSe_",
        "outputId": "f0190454-3b58-44af-c7ea-44e3016e281d"
      },
      "execution_count": 7,
      "outputs": [
        {
          "output_type": "stream",
          "name": "stdout",
          "text": [
            "apple\n",
            "banana\n",
            "cherry\n",
            "mongo\n"
          ]
        }
      ]
    },
    {
      "cell_type": "markdown",
      "source": [
        "<div dir=\"rtl\">\n",
        "نام میوه های لیست که 5 کاراکتری هستند را چاپ نمایید.</div>"
      ],
      "metadata": {
        "id": "Pk-6V0OFuLS0"
      }
    },
    {
      "cell_type": "code",
      "source": [
        "fruits = [\"apple\", \"banana\", \"cherry\", \"mongo\"]\n",
        "for f in fruits:\n",
        "  if len(f)==5:\n",
        "    print(f)"
      ],
      "metadata": {
        "colab": {
          "base_uri": "https://localhost:8080/"
        },
        "id": "JdXvjA13t19P",
        "outputId": "b5c040cf-93aa-4cbc-ff9b-24bcd9e06d47"
      },
      "execution_count": 8,
      "outputs": [
        {
          "output_type": "stream",
          "name": "stdout",
          "text": [
            "apple\n",
            "mongo\n"
          ]
        }
      ]
    },
    {
      "cell_type": "markdown",
      "source": [
        "<div dir=\"rtl\">\n",
        "اول بودن یا نبودن عدد a را بررسی کنید.</div>"
      ],
      "metadata": {
        "id": "qLBsBKB6vWk0"
      }
    },
    {
      "cell_type": "code",
      "source": [
        "a = 47\n",
        "prime = True\n",
        "for i in range(2,int(a**0.5)+1):\n",
        "  if a%i==0:\n",
        "    prime = False\n",
        "    break\n",
        "    \n",
        "if prime:    \n",
        "  print(a, \"is prime\")\n",
        "else:    \n",
        "  print(a, \"is not prime\")"
      ],
      "metadata": {
        "colab": {
          "base_uri": "https://localhost:8080/"
        },
        "id": "FpvLzqb_t6hW",
        "outputId": "19442c14-0c05-40f5-d0ac-22163dac0dce"
      },
      "execution_count": 12,
      "outputs": [
        {
          "output_type": "stream",
          "name": "stdout",
          "text": [
            "47 is prime\n"
          ]
        }
      ]
    },
    {
      "cell_type": "markdown",
      "source": [
        "<div dir=\"rtl\">\n",
        "اعداد زوج دو رقمی را چاپ کنید.</div>"
      ],
      "metadata": {
        "id": "VB8ZK-KZvlqs"
      }
    },
    {
      "cell_type": "code",
      "source": [
        "for i in range(10,100,2):\n",
        "  print(i)"
      ],
      "metadata": {
        "colab": {
          "base_uri": "https://localhost:8080/"
        },
        "id": "wx63LOF-t976",
        "outputId": "dc6af8e9-acdb-4def-f2aa-b65954a7f1e8"
      },
      "execution_count": 13,
      "outputs": [
        {
          "output_type": "stream",
          "name": "stdout",
          "text": [
            "10\n",
            "12\n",
            "14\n",
            "16\n",
            "18\n",
            "20\n",
            "22\n",
            "24\n",
            "26\n",
            "28\n",
            "30\n",
            "32\n",
            "34\n",
            "36\n",
            "38\n",
            "40\n",
            "42\n",
            "44\n",
            "46\n",
            "48\n",
            "50\n",
            "52\n",
            "54\n",
            "56\n",
            "58\n",
            "60\n",
            "62\n",
            "64\n",
            "66\n",
            "68\n",
            "70\n",
            "72\n",
            "74\n",
            "76\n",
            "78\n",
            "80\n",
            "82\n",
            "84\n",
            "86\n",
            "88\n",
            "90\n",
            "92\n",
            "94\n",
            "96\n",
            "98\n"
          ]
        }
      ]
    },
    {
      "cell_type": "markdown",
      "source": [
        "<div dir=\"rtl\">\n",
        "اعداد فرد در لیست q که در موقعیت زوج هستند را چاپ نمایید. </div>"
      ],
      "metadata": {
        "id": "qQXW4qtypMoe"
      }
    },
    {
      "cell_type": "code",
      "source": [
        "q = [22,32,12,55,33,13,46,8,10,2,65,31,34,101,111]\n",
        "for i,j in enumerate(q):\n",
        "  if (i%2==0) & (j%2==1):\n",
        "    print(j)"
      ],
      "metadata": {
        "colab": {
          "base_uri": "https://localhost:8080/"
        },
        "id": "AP21ReRMpkBT",
        "outputId": "36bca003-6bf2-4192-e5a3-0686915fb2a1"
      },
      "execution_count": 15,
      "outputs": [
        {
          "output_type": "stream",
          "name": "stdout",
          "text": [
            "33\n",
            "65\n",
            "111\n"
          ]
        }
      ]
    },
    {
      "cell_type": "markdown",
      "source": [
        "<div dir=\"rtl\">\n",
        "تابعی بنویسید که طول و عرض یک مستطیل را از ورودی دریافت کند و محیط و مساحت آن را برگرداند.\n",
        "</div>"
      ],
      "metadata": {
        "id": "6fJpkHgLqgow"
      }
    },
    {
      "cell_type": "code",
      "source": [
        "def rectangle(x,y):\n",
        "  a = x*y\n",
        "  b = (x+y)*2\n",
        "  return a,b\n",
        "\n",
        "area, perimeter = rectangle(4,5)\n",
        "print(area, perimeter)"
      ],
      "metadata": {
        "id": "Ck_VyhD_yOJ-",
        "colab": {
          "base_uri": "https://localhost:8080/"
        },
        "outputId": "57e8f773-efee-418d-871f-10b1d5eb4dca"
      },
      "execution_count": 16,
      "outputs": [
        {
          "output_type": "stream",
          "name": "stdout",
          "text": [
            "20 18\n"
          ]
        }
      ]
    },
    {
      "cell_type": "markdown",
      "source": [
        "<div dir=\"rtl\">\n",
        "تابعی بنویسید که یک عدد دریافت کند و اول بودن یا نبودن آن را به صورت boolean برگرداند.\n",
        "</div>"
      ],
      "metadata": {
        "id": "efpST18JsvH3"
      }
    },
    {
      "cell_type": "code",
      "source": [
        "def isprime(x):\n",
        "  for i in range(2,int(x**0.5)+1):\n",
        "    if x%i==0:\n",
        "      return False\n",
        "  \n",
        "  return True\n",
        "\n",
        "\n",
        "if isprime(9):\n",
        "  print('prime')\n",
        "else:\n",
        "  print('not prime')"
      ],
      "metadata": {
        "colab": {
          "base_uri": "https://localhost:8080/"
        },
        "id": "CIQn3rthyV3M",
        "outputId": "478cecc5-04fe-4d83-bdd3-bfbc9ceeffd5"
      },
      "execution_count": 17,
      "outputs": [
        {
          "output_type": "stream",
          "name": "stdout",
          "text": [
            "not prime\n"
          ]
        }
      ]
    },
    {
      "cell_type": "markdown",
      "source": [
        "<div dir=\"rtl\">\n",
        "تابعی بنویسید که یک رشته دریافت کند و حضور یا عدم حضور کاراکتر x در آن را به صورت boolean برگرداند.\n",
        "</div>"
      ],
      "metadata": {
        "id": "cRQUMC_mtOb_"
      }
    },
    {
      "cell_type": "code",
      "source": [
        "def match(s):\n",
        "  for ch in s:\n",
        "    if ch=='x':\n",
        "      return True\n",
        "  \n",
        "  return False\n",
        "\n",
        "if match('thanx python  xxxxx'):\n",
        "  print('There is x in this string!!!')\n",
        "else:\n",
        "  print('No x here!!!')"
      ],
      "metadata": {
        "colab": {
          "base_uri": "https://localhost:8080/"
        },
        "id": "vRI01mz4yiHe",
        "outputId": "6ed6ddb4-6bc1-49c5-9ecc-495895ded89d"
      },
      "execution_count": 18,
      "outputs": [
        {
          "output_type": "stream",
          "name": "stdout",
          "text": [
            "There is x in this string!!!\n"
          ]
        }
      ]
    },
    {
      "cell_type": "markdown",
      "source": [
        "#numpy"
      ],
      "metadata": {
        "id": "WSk2Iibgu16z"
      }
    },
    {
      "cell_type": "code",
      "source": [
        "import numpy as np"
      ],
      "metadata": {
        "id": "z-lMVLx0u7zP"
      },
      "execution_count": 20,
      "outputs": []
    },
    {
      "cell_type": "markdown",
      "source": [
        "<div dir=\"rtl\">\n",
        "دو آرایه numpy را در راستای افقی به هم بچسبانید.\n",
        "</div>"
      ],
      "metadata": {
        "id": "l5wFSnwnvAPG"
      }
    },
    {
      "cell_type": "code",
      "source": [
        "a = np.array([1, 2, 3])\n",
        "b = np.array([5, 6, 7])\n",
        "np.hstack([a,b])"
      ],
      "metadata": {
        "colab": {
          "base_uri": "https://localhost:8080/"
        },
        "id": "bXMckEzMu47B",
        "outputId": "8e14d8a3-6d0e-4f7f-b347-aacd1b9c376d"
      },
      "execution_count": 21,
      "outputs": [
        {
          "output_type": "execute_result",
          "data": {
            "text/plain": [
              "array([1, 2, 3, 5, 6, 7])"
            ]
          },
          "metadata": {},
          "execution_count": 21
        }
      ]
    },
    {
      "cell_type": "markdown",
      "source": [
        "<div dir=\"rtl\">\n",
        "دو آرایه numpy را در راستای عمودی به هم بچسبانید.\n",
        "</div>"
      ],
      "metadata": {
        "id": "WrfeHdLCvXR1"
      }
    },
    {
      "cell_type": "code",
      "source": [
        "a = np.array([1, 2, 3])\n",
        "b = np.array([5, 6, 7])\n",
        "c = np.vstack([a,b])\n",
        "c"
      ],
      "metadata": {
        "colab": {
          "base_uri": "https://localhost:8080/"
        },
        "id": "t9jB39gpu6t1",
        "outputId": "59f887f8-74ed-40d2-a0f6-e5666470bc16"
      },
      "execution_count": 22,
      "outputs": [
        {
          "output_type": "execute_result",
          "data": {
            "text/plain": [
              "array([[1, 2, 3],\n",
              "       [5, 6, 7]])"
            ]
          },
          "metadata": {},
          "execution_count": 22
        }
      ]
    },
    {
      "cell_type": "markdown",
      "source": [
        "<div dir=\"rtl\">\n",
        "عناصر دو ماتریس a و b را از هم کم کنید.\n",
        "</div>"
      ],
      "metadata": {
        "id": "mSrBCdXsvtzx"
      }
    },
    {
      "cell_type": "code",
      "source": [
        "a = np.array ( [ [1,2] , [3,4] ] )\n",
        "b = np.array ( [ [2,0] , [-5,6] ] )\n",
        "np.subtract(a,b)"
      ],
      "metadata": {
        "colab": {
          "base_uri": "https://localhost:8080/"
        },
        "id": "XyFCJtsKvbgf",
        "outputId": "3250ecc9-8991-4286-b55e-53d65ea1e933"
      },
      "execution_count": 23,
      "outputs": [
        {
          "output_type": "execute_result",
          "data": {
            "text/plain": [
              "array([[-1,  2],\n",
              "       [ 8, -2]])"
            ]
          },
          "metadata": {},
          "execution_count": 23
        }
      ]
    },
    {
      "cell_type": "markdown",
      "source": [
        "<div dir=\"rtl\">\n",
        "تمام عناصر یک آرایه numpy را بر عدد 3 تقسیم کنید.\n",
        "</div>"
      ],
      "metadata": {
        "id": "leY21abQwmzc"
      }
    },
    {
      "cell_type": "code",
      "source": [
        "a = np.array( [5,6,7])\n",
        "np.divide( a , 3)\n",
        "# np.floor_divide( a , 3) # تقسیم صحیح"
      ],
      "metadata": {
        "colab": {
          "base_uri": "https://localhost:8080/"
        },
        "id": "U01flz1HwI3K",
        "outputId": "becd42f8-a566-4bb0-8b65-9b1613874260"
      },
      "execution_count": 32,
      "outputs": [
        {
          "output_type": "execute_result",
          "data": {
            "text/plain": [
              "array([1.66666667, 2.        , 2.33333333])"
            ]
          },
          "metadata": {},
          "execution_count": 32
        }
      ]
    },
    {
      "cell_type": "markdown",
      "source": [
        "<div dir=\"rtl\">\n",
        "تولید اعداد یک محدوده در قالب آرایه numpy\n",
        "</div>"
      ],
      "metadata": {
        "id": "QCJuJS9hxH5V"
      }
    },
    {
      "cell_type": "code",
      "source": [
        "# np.arange(1, 13)  # بدون در نظر گرفتن گام حرکت\n",
        "np.arange(1, 13, 2) # پارامتر سوم گام حرکت است"
      ],
      "metadata": {
        "colab": {
          "base_uri": "https://localhost:8080/"
        },
        "id": "BArDwQEwwcTw",
        "outputId": "a44ebe9d-08a1-4a9d-f5ea-bbc39bdd066f"
      },
      "execution_count": 29,
      "outputs": [
        {
          "output_type": "execute_result",
          "data": {
            "text/plain": [
              "array([ 1,  3,  5,  7,  9, 11])"
            ]
          },
          "metadata": {},
          "execution_count": 29
        }
      ]
    },
    {
      "cell_type": "markdown",
      "source": [
        "<div dir=\"rtl\">\n",
        "اضافه کردن یک عدد در انتهای یک آرایه numpy</div>"
      ],
      "metadata": {
        "id": "uIgKmKzqx-kg"
      }
    },
    {
      "cell_type": "code",
      "source": [
        "r = np.random.normal(50,5,10) # تولید 10 عدد تصادفی با میانگین 50 و انحراف معیار 5\n",
        "R = np.append(r,23) # اضافه کردن عدد 23 در انتهای آرایه\n",
        "R"
      ],
      "metadata": {
        "colab": {
          "base_uri": "https://localhost:8080/"
        },
        "id": "5AU-Hn70xd8u",
        "outputId": "3f2c1f3d-e413-478f-9b25-ec8dd04c7c78"
      },
      "execution_count": 31,
      "outputs": [
        {
          "output_type": "execute_result",
          "data": {
            "text/plain": [
              "array([48.2114126 , 35.726778  , 52.95664132, 55.87934112, 53.1013192 ,\n",
              "       52.63111934, 52.74040967, 61.51553016, 51.80128259, 51.91969736,\n",
              "       23.        ])"
            ]
          },
          "metadata": {},
          "execution_count": 31
        }
      ]
    },
    {
      "cell_type": "code",
      "source": [
        ""
      ],
      "metadata": {
        "id": "YnAUK7Ugx63W"
      },
      "execution_count": null,
      "outputs": []
    }
  ]
}
