{
  "nbformat": 4,
  "nbformat_minor": 0,
  "metadata": {
    "colab": {
      "name": "python book - chapter 8 - evaluation.ipynb",
      "provenance": [],
      "collapsed_sections": []
    },
    "kernelspec": {
      "name": "python3",
      "display_name": "Python 3"
    },
    "language_info": {
      "name": "python"
    }
  },
  "cells": [
    {
      "cell_type": "code",
      "execution_count": null,
      "metadata": {
        "id": "Mllrk-mihyI_"
      },
      "outputs": [],
      "source": [
        "import pandas as pd\n",
        "import numpy as np"
      ]
    },
    {
      "cell_type": "code",
      "source": [
        "df = pd.read_excel(r'/content/DiabetesDiagnosis.xls')\n",
        "df.head()"
      ],
      "metadata": {
        "colab": {
          "base_uri": "https://localhost:8080/",
          "height": 206
        },
        "id": "hm6HLZ7MihKg",
        "outputId": "37d6f0b8-cd63-46ed-9fe4-40237737b56c"
      },
      "execution_count": null,
      "outputs": [
        {
          "output_type": "execute_result",
          "data": {
            "text/html": [
              "\n",
              "  <div id=\"df-6028194e-f51c-4428-a827-35daa606a82b\">\n",
              "    <div class=\"colab-df-container\">\n",
              "      <div>\n",
              "<style scoped>\n",
              "    .dataframe tbody tr th:only-of-type {\n",
              "        vertical-align: middle;\n",
              "    }\n",
              "\n",
              "    .dataframe tbody tr th {\n",
              "        vertical-align: top;\n",
              "    }\n",
              "\n",
              "    .dataframe thead th {\n",
              "        text-align: right;\n",
              "    }\n",
              "</style>\n",
              "<table border=\"1\" class=\"dataframe\">\n",
              "  <thead>\n",
              "    <tr style=\"text-align: right;\">\n",
              "      <th></th>\n",
              "      <th>Pregnancies</th>\n",
              "      <th>PG Concentration</th>\n",
              "      <th>Diastolic BP</th>\n",
              "      <th>Tri Fold Thick</th>\n",
              "      <th>Serum Ins</th>\n",
              "      <th>BMI</th>\n",
              "      <th>DP Function</th>\n",
              "      <th>Age</th>\n",
              "      <th>Diagnosis</th>\n",
              "    </tr>\n",
              "  </thead>\n",
              "  <tbody>\n",
              "    <tr>\n",
              "      <th>0</th>\n",
              "      <td>6</td>\n",
              "      <td>148</td>\n",
              "      <td>72</td>\n",
              "      <td>35</td>\n",
              "      <td>0</td>\n",
              "      <td>33.6</td>\n",
              "      <td>0.627</td>\n",
              "      <td>50</td>\n",
              "      <td>0</td>\n",
              "    </tr>\n",
              "    <tr>\n",
              "      <th>1</th>\n",
              "      <td>1</td>\n",
              "      <td>85</td>\n",
              "      <td>66</td>\n",
              "      <td>29</td>\n",
              "      <td>0</td>\n",
              "      <td>26.6</td>\n",
              "      <td>0.351</td>\n",
              "      <td>31</td>\n",
              "      <td>1</td>\n",
              "    </tr>\n",
              "    <tr>\n",
              "      <th>2</th>\n",
              "      <td>8</td>\n",
              "      <td>183</td>\n",
              "      <td>64</td>\n",
              "      <td>0</td>\n",
              "      <td>0</td>\n",
              "      <td>23.3</td>\n",
              "      <td>0.672</td>\n",
              "      <td>32</td>\n",
              "      <td>0</td>\n",
              "    </tr>\n",
              "    <tr>\n",
              "      <th>3</th>\n",
              "      <td>1</td>\n",
              "      <td>89</td>\n",
              "      <td>66</td>\n",
              "      <td>23</td>\n",
              "      <td>94</td>\n",
              "      <td>28.1</td>\n",
              "      <td>0.167</td>\n",
              "      <td>21</td>\n",
              "      <td>1</td>\n",
              "    </tr>\n",
              "    <tr>\n",
              "      <th>4</th>\n",
              "      <td>0</td>\n",
              "      <td>137</td>\n",
              "      <td>40</td>\n",
              "      <td>35</td>\n",
              "      <td>168</td>\n",
              "      <td>43.1</td>\n",
              "      <td>2.288</td>\n",
              "      <td>33</td>\n",
              "      <td>0</td>\n",
              "    </tr>\n",
              "  </tbody>\n",
              "</table>\n",
              "</div>\n",
              "      <button class=\"colab-df-convert\" onclick=\"convertToInteractive('df-6028194e-f51c-4428-a827-35daa606a82b')\"\n",
              "              title=\"Convert this dataframe to an interactive table.\"\n",
              "              style=\"display:none;\">\n",
              "        \n",
              "  <svg xmlns=\"http://www.w3.org/2000/svg\" height=\"24px\"viewBox=\"0 0 24 24\"\n",
              "       width=\"24px\">\n",
              "    <path d=\"M0 0h24v24H0V0z\" fill=\"none\"/>\n",
              "    <path d=\"M18.56 5.44l.94 2.06.94-2.06 2.06-.94-2.06-.94-.94-2.06-.94 2.06-2.06.94zm-11 1L8.5 8.5l.94-2.06 2.06-.94-2.06-.94L8.5 2.5l-.94 2.06-2.06.94zm10 10l.94 2.06.94-2.06 2.06-.94-2.06-.94-.94-2.06-.94 2.06-2.06.94z\"/><path d=\"M17.41 7.96l-1.37-1.37c-.4-.4-.92-.59-1.43-.59-.52 0-1.04.2-1.43.59L10.3 9.45l-7.72 7.72c-.78.78-.78 2.05 0 2.83L4 21.41c.39.39.9.59 1.41.59.51 0 1.02-.2 1.41-.59l7.78-7.78 2.81-2.81c.8-.78.8-2.07 0-2.86zM5.41 20L4 18.59l7.72-7.72 1.47 1.35L5.41 20z\"/>\n",
              "  </svg>\n",
              "      </button>\n",
              "      \n",
              "  <style>\n",
              "    .colab-df-container {\n",
              "      display:flex;\n",
              "      flex-wrap:wrap;\n",
              "      gap: 12px;\n",
              "    }\n",
              "\n",
              "    .colab-df-convert {\n",
              "      background-color: #E8F0FE;\n",
              "      border: none;\n",
              "      border-radius: 50%;\n",
              "      cursor: pointer;\n",
              "      display: none;\n",
              "      fill: #1967D2;\n",
              "      height: 32px;\n",
              "      padding: 0 0 0 0;\n",
              "      width: 32px;\n",
              "    }\n",
              "\n",
              "    .colab-df-convert:hover {\n",
              "      background-color: #E2EBFA;\n",
              "      box-shadow: 0px 1px 2px rgba(60, 64, 67, 0.3), 0px 1px 3px 1px rgba(60, 64, 67, 0.15);\n",
              "      fill: #174EA6;\n",
              "    }\n",
              "\n",
              "    [theme=dark] .colab-df-convert {\n",
              "      background-color: #3B4455;\n",
              "      fill: #D2E3FC;\n",
              "    }\n",
              "\n",
              "    [theme=dark] .colab-df-convert:hover {\n",
              "      background-color: #434B5C;\n",
              "      box-shadow: 0px 1px 3px 1px rgba(0, 0, 0, 0.15);\n",
              "      filter: drop-shadow(0px 1px 2px rgba(0, 0, 0, 0.3));\n",
              "      fill: #FFFFFF;\n",
              "    }\n",
              "  </style>\n",
              "\n",
              "      <script>\n",
              "        const buttonEl =\n",
              "          document.querySelector('#df-6028194e-f51c-4428-a827-35daa606a82b button.colab-df-convert');\n",
              "        buttonEl.style.display =\n",
              "          google.colab.kernel.accessAllowed ? 'block' : 'none';\n",
              "\n",
              "        async function convertToInteractive(key) {\n",
              "          const element = document.querySelector('#df-6028194e-f51c-4428-a827-35daa606a82b');\n",
              "          const dataTable =\n",
              "            await google.colab.kernel.invokeFunction('convertToInteractive',\n",
              "                                                     [key], {});\n",
              "          if (!dataTable) return;\n",
              "\n",
              "          const docLinkHtml = 'Like what you see? Visit the ' +\n",
              "            '<a target=\"_blank\" href=https://colab.research.google.com/notebooks/data_table.ipynb>data table notebook</a>'\n",
              "            + ' to learn more about interactive tables.';\n",
              "          element.innerHTML = '';\n",
              "          dataTable['output_type'] = 'display_data';\n",
              "          await google.colab.output.renderOutput(dataTable, element);\n",
              "          const docLink = document.createElement('div');\n",
              "          docLink.innerHTML = docLinkHtml;\n",
              "          element.appendChild(docLink);\n",
              "        }\n",
              "      </script>\n",
              "    </div>\n",
              "  </div>\n",
              "  "
            ],
            "text/plain": [
              "   Pregnancies  PG Concentration  Diastolic BP  ...  DP Function  Age  Diagnosis\n",
              "0            6               148            72  ...        0.627   50          0\n",
              "1            1                85            66  ...        0.351   31          1\n",
              "2            8               183            64  ...        0.672   32          0\n",
              "3            1                89            66  ...        0.167   21          1\n",
              "4            0               137            40  ...        2.288   33          0\n",
              "\n",
              "[5 rows x 9 columns]"
            ]
          },
          "metadata": {},
          "execution_count": 30
        }
      ]
    },
    {
      "cell_type": "code",
      "source": [
        "X = df.drop('Diagnosis', axis=1)\n",
        "Y = df['Diagnosis']"
      ],
      "metadata": {
        "id": "rk-spQ03i3FP"
      },
      "execution_count": null,
      "outputs": []
    },
    {
      "cell_type": "code",
      "source": [
        "from sklearn.model_selection import train_test_split\n",
        "Xtrain, Xtest, Ytrain, Ytest = train_test_split(X, Y, test_size=0.25, random_state=22)"
      ],
      "metadata": {
        "id": "kTLPQZ-0jAZa"
      },
      "execution_count": null,
      "outputs": []
    },
    {
      "cell_type": "code",
      "source": [
        "from sklearn.naive_bayes import GaussianNB"
      ],
      "metadata": {
        "id": "UotGt7oIg6h7"
      },
      "execution_count": null,
      "outputs": []
    },
    {
      "cell_type": "code",
      "source": [
        "from sklearn.metrics import confusion_matrix, accuracy_score, recall_score, precision_score, f1_score, roc_auc_score\n",
        "GNB = GaussianNB()\n",
        "GNB.fit(Xtrain, Ytrain)\n",
        "pred = GNB.predict(Xtest)\n",
        "print(confusion_matrix(Ytest, pred))\n",
        "print('accuracy:   ', accuracy_score(Ytest, pred))\n",
        "print('recall:     ', recall_score(Ytest, pred))\n",
        "print('precision:  ', precision_score(Ytest, pred))\n",
        "print('f-measure:  ', f1_score(Ytest, pred))\n",
        "print('auc:        ', roc_auc_score(Ytest, pred))"
      ],
      "metadata": {
        "colab": {
          "base_uri": "https://localhost:8080/"
        },
        "id": "xVIe2vIXgqRw",
        "outputId": "0a2a79cd-4ad5-46be-9f37-31f7a5e118f3"
      },
      "execution_count": null,
      "outputs": [
        {
          "output_type": "stream",
          "name": "stdout",
          "text": [
            "[[ 30  34]\n",
            " [ 18 110]]\n",
            "accuracy:    0.7291666666666666\n",
            "recall:      0.859375\n",
            "precision:   0.7638888888888888\n",
            "f-measure:   0.8088235294117647\n",
            "auc:         0.6640625\n"
          ]
        }
      ]
    },
    {
      "cell_type": "code",
      "source": [
        "import seaborn as sns\n",
        "\n",
        "cf_matrix = confusion_matrix(Ytest, pred)\n",
        "labels = ['True Neg','False Pos','False Neg','True Pos']\n",
        "labels = np.asarray(labels).reshape(2,2)\n",
        "\n",
        "ax = sns.heatmap(cf_matrix, annot=True, fmt='', cmap='Blues')\n",
        "ax.set_xlabel('\\nPredicted Values')\n",
        "ax.set_ylabel('Actual Values ')\n",
        "ax.xaxis.set_ticklabels(['False','True'])\n",
        "ax.yaxis.set_ticklabels(['False','True'])\n",
        "plt.show()"
      ],
      "metadata": {
        "colab": {
          "base_uri": "https://localhost:8080/",
          "height": 291
        },
        "id": "eCqLUJ_qgtKv",
        "outputId": "dec4526c-5c4b-4b80-c4df-8d73bdb99035"
      },
      "execution_count": null,
      "outputs": [
        {
          "output_type": "display_data",
          "data": {
            "image/png": "[encoded data removed]",
            "text/plain": [
              "<Figure size 432x288 with 2 Axes>"
            ]
          },
          "metadata": {
            "needs_background": "light"
          }
        }
      ]
    },
    {
      "cell_type": "code",
      "source": [
        "print('recall in class 0:                   ', recall_score(Ytest, pred, pos_label=0))\n",
        "print('precision in class 1:                ', precision_score(Ytest, pred, pos_label=1))\n",
        "print('average of f-measure in two classes: ', f1_score(Ytest, pred, average='macro'))"
      ],
      "metadata": {
        "colab": {
          "base_uri": "https://localhost:8080/"
        },
        "id": "EIctExvBl_I6",
        "outputId": "a636f89e-f219-48d1-9948-cc377e127f8c"
      },
      "execution_count": null,
      "outputs": [
        {
          "output_type": "stream",
          "name": "stdout",
          "text": [
            "recall in class 0:                    0.46875\n",
            "precision in class 1:                 0.7638888888888888\n",
            "average of f-measure in two classes:  0.6722689075630253\n"
          ]
        }
      ]
    },
    {
      "cell_type": "code",
      "source": [
        "Xtrain, Xtest, Ytrain, Ytest = train_test_split(X, Y, test_size=0.25, random_state=22, shuffle=True, stratify=Y)\n",
        "\n",
        "GNB = GaussianNB()\n",
        "GNB.fit(Xtrain, Ytrain)\n",
        "pred = GNB.predict(Xtest)\n",
        "print(confusion_matrix(Ytest, pred))\n",
        "print('accuracy:   ', accuracy_score(Ytest, pred))\n",
        "print('recall:     ', recall_score(Ytest, pred))\n",
        "print('precision:  ', precision_score(Ytest, pred))\n",
        "print('f-measure:  ', f1_score(Ytest, pred))\n",
        "print('auc:        ', roc_auc_score(Ytest, pred))"
      ],
      "metadata": {
        "colab": {
          "base_uri": "https://localhost:8080/"
        },
        "id": "VXmhuDKGoLvR",
        "outputId": "c75d9b2e-c1fb-4177-ed2e-51f125f04a31"
      },
      "execution_count": null,
      "outputs": [
        {
          "output_type": "stream",
          "name": "stdout",
          "text": [
            "[[ 35  32]\n",
            " [ 13 112]]\n",
            "accuracy:    0.765625\n",
            "recall:      0.896\n",
            "precision:   0.7777777777777778\n",
            "f-measure:   0.8327137546468402\n",
            "auc:         0.7091940298507462\n"
          ]
        }
      ]
    },
    {
      "cell_type": "code",
      "source": [
        "from sklearn.model_selection import cross_val_predict\n",
        "GNB = GaussianNB()\n",
        "pred = cross_val_predict(GNB, X, Y, cv=5)\n",
        "\n",
        "print(confusion_matrix(Y, pred))\n",
        "print('accuracy:   ', accuracy_score(Y, pred))"
      ],
      "metadata": {
        "colab": {
          "base_uri": "https://localhost:8080/"
        },
        "id": "yQwcvBwz-A7S",
        "outputId": "56fde975-ce80-4670-d38d-232649d20581"
      },
      "execution_count": null,
      "outputs": [
        {
          "output_type": "stream",
          "name": "stdout",
          "text": [
            "[[157 111]\n",
            " [ 80 420]]\n",
            "accuracy:    0.7513020833333334\n"
          ]
        }
      ]
    },
    {
      "cell_type": "code",
      "source": [
        "from sklearn.model_selection import cross_val_score\n",
        "scores = cross_val_score(GNB, X, Y, cv=5, scoring='recall')\n",
        "scores"
      ],
      "metadata": {
        "colab": {
          "base_uri": "https://localhost:8080/"
        },
        "id": "HY1zUmbC-A9D",
        "outputId": "09e077d5-bf11-472a-c615-a8284860b014"
      },
      "execution_count": null,
      "outputs": [
        {
          "output_type": "execute_result",
          "data": {
            "text/plain": [
              "array([0.84, 0.82, 0.84, 0.85, 0.85])"
            ]
          },
          "metadata": {},
          "execution_count": 48
        }
      ]
    },
    {
      "cell_type": "code",
      "source": [
        "from sklearn.model_selection import KFold\n",
        "kf = KFold(n_splits=4)\n",
        "for train_index, test_index in kf.split(X):\n",
        "  \n",
        "  Xtrain, Xtest = X.iloc[train_index], X.iloc[test_index]\n",
        "  Ytrain, Ytest = Y[train_index], Y[test_index]\n",
        "\n",
        "  GNB.fit(Xtrain, Ytrain)\n",
        "  pred = GNB.predict(Xtest)\n",
        "  print(accuracy_score(Ytest, pred))"
      ],
      "metadata": {
        "colab": {
          "base_uri": "https://localhost:8080/"
        },
        "id": "oNN2YLG8-A_p",
        "outputId": "4619e487-0174-4632-e54c-a772f50aa29f"
      },
      "execution_count": null,
      "outputs": [
        {
          "output_type": "stream",
          "name": "stdout",
          "text": [
            "0.765625\n",
            "0.71875\n",
            "0.78125\n",
            "0.7604166666666666\n"
          ]
        }
      ]
    },
    {
      "cell_type": "code",
      "source": [
        "from sklearn.model_selection import LeaveOneOut\n",
        "loo = LeaveOneOut()\n",
        "for train, test in loo.split(X):\n",
        "  Xtrain, Xtest = X.iloc[train_index], X.iloc[test_index]\n",
        "  Ytrain, Ytest = Y[train_index], Y[test_index]\n",
        "\n",
        "  GNB.fit(Xtrain, Ytrain)\n",
        "  pred = GNB.predict(Xtest)\n",
        "  print(accuracy_score(Ytest, pred))"
      ],
      "metadata": {
        "id": "8-mrrT1k-BBz"
      },
      "execution_count": null,
      "outputs": []
    },
    {
      "cell_type": "code",
      "source": [
        "from sklearn.model_selection import StratifiedKFold\n",
        "skf = StratifiedKFold(n_splits=4)\n",
        "for train_index, test_index in skf.split(X, Y):\n",
        "  \n",
        "  Xtrain, Xtest = X.iloc[train_index], X.iloc[test_index]\n",
        "  Ytrain, Ytest = Y[train_index], Y[test_index]\n",
        "\n",
        "  GNB.fit(Xtrain, Ytrain)\n",
        "  pred = GNB.predict(Xtest)\n",
        "  print(accuracy_score(Ytest, pred))"
      ],
      "metadata": {
        "colab": {
          "base_uri": "https://localhost:8080/"
        },
        "id": "jXYPkmtEZW8h",
        "outputId": "be362f14-4e09-49ba-c06e-02bef3e7d582"
      },
      "execution_count": null,
      "outputs": [
        {
          "output_type": "stream",
          "name": "stdout",
          "text": [
            "0.7708333333333334\n",
            "0.7135416666666666\n",
            "0.7552083333333334\n",
            "0.765625\n"
          ]
        }
      ]
    },
    {
      "cell_type": "code",
      "source": [
        "from sklearn.model_selection import GroupKFold\n",
        "gkf = GroupKFold(n_splits=5)\n",
        "for train, test in gkf.split(X, Y, groups=X['Age']):\n",
        "  Xtrain, Xtest = X.iloc[train_index], X.iloc[test_index]\n",
        "  Ytrain, Ytest = Y[train_index], Y[test_index]\n",
        "\n",
        "  GNB.fit(Xtrain, Ytrain)\n",
        "  pred = GNB.predict(Xtest)\n",
        "  print(accuracy_score(Ytest, pred))"
      ],
      "metadata": {
        "colab": {
          "base_uri": "https://localhost:8080/"
        },
        "id": "4i73SGMOZW-G",
        "outputId": "ca6efea9-4955-4412-e21f-c7c0729afe03"
      },
      "execution_count": null,
      "outputs": [
        {
          "output_type": "stream",
          "name": "stdout",
          "text": [
            "0.765625\n",
            "0.765625\n",
            "0.765625\n",
            "0.765625\n",
            "0.765625\n"
          ]
        }
      ]
    },
    {
      "cell_type": "code",
      "source": [
        "from sklearn.model_selection import GridSearchCV\n",
        "from sklearn.svm import SVC"
      ],
      "metadata": {
        "id": "CfwgR70MhBrQ"
      },
      "execution_count": null,
      "outputs": []
    },
    {
      "cell_type": "code",
      "source": [
        "svm = SVC()\n",
        "par = [{'kernel': ['rbf'], 'gamma': [0.01,0.1,0.2], 'C': [0.01,0.1,10]},\n",
        "       {'kernel': ['poly'], 'degree': [2,3,4], 'C': [0.01,0.1,10]},\n",
        "       {'kernel': ['linear'], 'C': [0.01,0.1,10]}]\n",
        "\n",
        "GS = GridSearchCV(svm, param_grid=par, cv=4, scoring='recall')\n",
        "GS.fit(X, Y)"
      ],
      "metadata": {
        "colab": {
          "base_uri": "https://localhost:8080/"
        },
        "id": "TXCznSEzZXCF",
        "outputId": "d4cae43a-3b0d-48d4-b357-3ca4ab3d49c4"
      },
      "execution_count": null,
      "outputs": [
        {
          "output_type": "execute_result",
          "data": {
            "text/plain": [
              "GridSearchCV(cv=4, estimator=SVC(),\n",
              "             param_grid=[{'C': [0.01, 0.1, 10], 'gamma': [0.01, 0.1, 0.2],\n",
              "                          'kernel': ['rbf']},\n",
              "                         {'C': [0.01, 0.1, 10], 'degree': [2, 3, 4],\n",
              "                          'kernel': ['poly']},\n",
              "                         {'C': [0.01, 0.1, 10], 'kernel': ['linear']}],\n",
              "             scoring='recall')"
            ]
          },
          "metadata": {},
          "execution_count": 59
        }
      ]
    },
    {
      "cell_type": "code",
      "source": [
        ""
      ],
      "metadata": {
        "id": "WVu-CiLwoy01"
      },
      "execution_count": null,
      "outputs": []
    },
    {
      "cell_type": "code",
      "source": [
        "df = pd.read_csv(r'/content/sample_data/california_housing_train.csv')\n",
        "X = df.drop('median_house_value', axis=1)\n",
        "Y = df['median_house_value']\n",
        "Xtrain, Xtest, Ytrain, Ytest = train_test_split(X, Y, test_size=0.25, random_state=22)"
      ],
      "metadata": {
        "id": "OkaSjOidozB-"
      },
      "execution_count": null,
      "outputs": []
    },
    {
      "cell_type": "code",
      "source": [
        "from sklearn.tree import DecisionTreeRegressor"
      ],
      "metadata": {
        "id": "Aj76dla-sJ6n"
      },
      "execution_count": null,
      "outputs": []
    },
    {
      "cell_type": "code",
      "source": [
        "from sklearn.metrics import mean_squared_error, mean_absolute_error, mean_absolute_percentage_error\n",
        "\n",
        "DT_R = DecisionTreeRegressor(criterion='mse', max_depth=5, min_samples_split=7, min_samples_leaf=2, random_state=2)\n",
        "DT_R.fit(Xtrain, Ytrain)\n",
        "pred = DT_R.predict(Xtest)\n",
        "\n",
        "print('MSE:  ', mean_squared_error(Ytest,pred))\n",
        "print('RMSE: ', np.sqrt(mean_squared_error(Ytest,pred)))\n",
        "print('MAE:  ', mean_absolute_error(Ytest,pred))\n",
        "print('MAPE: ', mean_absolute_percentage_error(Ytest,pred))"
      ],
      "metadata": {
        "colab": {
          "base_uri": "https://localhost:8080/"
        },
        "id": "9ZAZf0d2sDW1",
        "outputId": "28835569-841c-46fc-8e23-a85fb980b2c8"
      },
      "execution_count": null,
      "outputs": [
        {
          "output_type": "stream",
          "name": "stdout",
          "text": [
            "MSE:   5314964628.237491\n",
            "RMSE:  72903.80393530567\n",
            "MAE:   52391.106467517915\n",
            "MAPE:  0.3134841079879687\n"
          ]
        },
        {
          "output_type": "stream",
          "name": "stderr",
          "text": [
            "/usr/local/lib/python3.7/dist-packages/sklearn/tree/_classes.py:363: FutureWarning: Criterion 'mse' was deprecated in v1.0 and will be removed in version 1.2. Use `criterion='squared_error'` which is equivalent.\n",
            "  FutureWarning,\n"
          ]
        }
      ]
    },
    {
      "cell_type": "code",
      "source": [
        ""
      ],
      "metadata": {
        "id": "N1vym9kzsw-m"
      },
      "execution_count": null,
      "outputs": []
    }
  ]
}