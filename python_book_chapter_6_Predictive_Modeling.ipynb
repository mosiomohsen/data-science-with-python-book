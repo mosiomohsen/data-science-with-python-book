{
  "nbformat": 4,
  "nbformat_minor": 0,
  "metadata": {
    "kernelspec": {
      "display_name": "Python 3",
      "language": "python",
      "name": "python3"
    },
    "language_info": {
      "codemirror_mode": {
        "name": "ipython",
        "version": 3
      },
      "file_extension": ".py",
      "mimetype": "text/x-python",
      "name": "python",
      "nbconvert_exporter": "python",
      "pygments_lexer": "ipython3",
      "version": "3.7.3"
    },
    "colab": {
      "name": "python book - chapter 6 - Predictive Modeling.ipynb",
      "provenance": [],
      "collapsed_sections": []
    }
  },
  "cells": [
    {
      "cell_type": "code",
      "metadata": {
        "id": "WCC915nlw4xt"
      },
      "source": [
        "import pandas as pd\n",
        "import numpy as np"
      ],
      "execution_count": null,
      "outputs": []
    },
    {
      "cell_type": "code",
      "metadata": {
        "id": "pTHeWkLWw4x0",
        "colab": {
          "base_uri": "https://localhost:8080/",
          "height": 206
        },
        "outputId": "b0600a7a-43e4-41c4-998f-4776deed5bfb"
      },
      "source": [
        "df = pd.read_csv(r'/content/Fisher.csv')\n",
        "df.head()"
      ],
      "execution_count": null,
      "outputs": [
        {
          "output_type": "execute_result",
          "data": {
            "text/html": [
              "\n",
              "  <div id=\"df-c480f4ea-fef2-43c3-be36-3e6b0fa18717\">\n",
              "    <div class=\"colab-df-container\">\n",
              "      <div>\n",
              "<style scoped>\n",
              "    .dataframe tbody tr th:only-of-type {\n",
              "        vertical-align: middle;\n",
              "    }\n",
              "\n",
              "    .dataframe tbody tr th {\n",
              "        vertical-align: top;\n",
              "    }\n",
              "\n",
              "    .dataframe thead th {\n",
              "        text-align: right;\n",
              "    }\n",
              "</style>\n",
              "<table border=\"1\" class=\"dataframe\">\n",
              "  <thead>\n",
              "    <tr style=\"text-align: right;\">\n",
              "      <th></th>\n",
              "      <th>Type</th>\n",
              "      <th>PW</th>\n",
              "      <th>PL</th>\n",
              "      <th>SW</th>\n",
              "      <th>SL</th>\n",
              "    </tr>\n",
              "  </thead>\n",
              "  <tbody>\n",
              "    <tr>\n",
              "      <th>0</th>\n",
              "      <td>0</td>\n",
              "      <td>2</td>\n",
              "      <td>14</td>\n",
              "      <td>33</td>\n",
              "      <td>50</td>\n",
              "    </tr>\n",
              "    <tr>\n",
              "      <th>1</th>\n",
              "      <td>1</td>\n",
              "      <td>24</td>\n",
              "      <td>56</td>\n",
              "      <td>31</td>\n",
              "      <td>67</td>\n",
              "    </tr>\n",
              "    <tr>\n",
              "      <th>2</th>\n",
              "      <td>1</td>\n",
              "      <td>23</td>\n",
              "      <td>51</td>\n",
              "      <td>31</td>\n",
              "      <td>69</td>\n",
              "    </tr>\n",
              "    <tr>\n",
              "      <th>3</th>\n",
              "      <td>0</td>\n",
              "      <td>2</td>\n",
              "      <td>10</td>\n",
              "      <td>36</td>\n",
              "      <td>46</td>\n",
              "    </tr>\n",
              "    <tr>\n",
              "      <th>4</th>\n",
              "      <td>1</td>\n",
              "      <td>20</td>\n",
              "      <td>52</td>\n",
              "      <td>30</td>\n",
              "      <td>65</td>\n",
              "    </tr>\n",
              "  </tbody>\n",
              "</table>\n",
              "</div>\n",
              "      <button class=\"colab-df-convert\" onclick=\"convertToInteractive('df-c480f4ea-fef2-43c3-be36-3e6b0fa18717')\"\n",
              "              title=\"Convert this dataframe to an interactive table.\"\n",
              "              style=\"display:none;\">\n",
              "        \n",
              "  <svg xmlns=\"http://www.w3.org/2000/svg\" height=\"24px\"viewBox=\"0 0 24 24\"\n",
              "       width=\"24px\">\n",
              "    <path d=\"M0 0h24v24H0V0z\" fill=\"none\"/>\n",
              "    <path d=\"M18.56 5.44l.94 2.06.94-2.06 2.06-.94-2.06-.94-.94-2.06-.94 2.06-2.06.94zm-11 1L8.5 8.5l.94-2.06 2.06-.94-2.06-.94L8.5 2.5l-.94 2.06-2.06.94zm10 10l.94 2.06.94-2.06 2.06-.94-2.06-.94-.94-2.06-.94 2.06-2.06.94z\"/><path d=\"M17.41 7.96l-1.37-1.37c-.4-.4-.92-.59-1.43-.59-.52 0-1.04.2-1.43.59L10.3 9.45l-7.72 7.72c-.78.78-.78 2.05 0 2.83L4 21.41c.39.39.9.59 1.41.59.51 0 1.02-.2 1.41-.59l7.78-7.78 2.81-2.81c.8-.78.8-2.07 0-2.86zM5.41 20L4 18.59l7.72-7.72 1.47 1.35L5.41 20z\"/>\n",
              "  </svg>\n",
              "      </button>\n",
              "      \n",
              "  <style>\n",
              "    .colab-df-container {\n",
              "      display:flex;\n",
              "      flex-wrap:wrap;\n",
              "      gap: 12px;\n",
              "    }\n",
              "\n",
              "    .colab-df-convert {\n",
              "      background-color: #E8F0FE;\n",
              "      border: none;\n",
              "      border-radius: 50%;\n",
              "      cursor: pointer;\n",
              "      display: none;\n",
              "      fill: #1967D2;\n",
              "      height: 32px;\n",
              "      padding: 0 0 0 0;\n",
              "      width: 32px;\n",
              "    }\n",
              "\n",
              "    .colab-df-convert:hover {\n",
              "      background-color: #E2EBFA;\n",
              "      box-shadow: 0px 1px 2px rgba(60, 64, 67, 0.3), 0px 1px 3px 1px rgba(60, 64, 67, 0.15);\n",
              "      fill: #174EA6;\n",
              "    }\n",
              "\n",
              "    [theme=dark] .colab-df-convert {\n",
              "      background-color: #3B4455;\n",
              "      fill: #D2E3FC;\n",
              "    }\n",
              "\n",
              "    [theme=dark] .colab-df-convert:hover {\n",
              "      background-color: #434B5C;\n",
              "      box-shadow: 0px 1px 3px 1px rgba(0, 0, 0, 0.15);\n",
              "      filter: drop-shadow(0px 1px 2px rgba(0, 0, 0, 0.3));\n",
              "      fill: #FFFFFF;\n",
              "    }\n",
              "  </style>\n",
              "\n",
              "      <script>\n",
              "        const buttonEl =\n",
              "          document.querySelector('#df-c480f4ea-fef2-43c3-be36-3e6b0fa18717 button.colab-df-convert');\n",
              "        buttonEl.style.display =\n",
              "          google.colab.kernel.accessAllowed ? 'block' : 'none';\n",
              "\n",
              "        async function convertToInteractive(key) {\n",
              "          const element = document.querySelector('#df-c480f4ea-fef2-43c3-be36-3e6b0fa18717');\n",
              "          const dataTable =\n",
              "            await google.colab.kernel.invokeFunction('convertToInteractive',\n",
              "                                                     [key], {});\n",
              "          if (!dataTable) return;\n",
              "\n",
              "          const docLinkHtml = 'Like what you see? Visit the ' +\n",
              "            '<a target=\"_blank\" href=https://colab.research.google.com/notebooks/data_table.ipynb>data table notebook</a>'\n",
              "            + ' to learn more about interactive tables.';\n",
              "          element.innerHTML = '';\n",
              "          dataTable['output_type'] = 'display_data';\n",
              "          await google.colab.output.renderOutput(dataTable, element);\n",
              "          const docLink = document.createElement('div');\n",
              "          docLink.innerHTML = docLinkHtml;\n",
              "          element.appendChild(docLink);\n",
              "        }\n",
              "      </script>\n",
              "    </div>\n",
              "  </div>\n",
              "  "
            ],
            "text/plain": [
              "   Type  PW  PL  SW  SL\n",
              "0     0   2  14  33  50\n",
              "1     1  24  56  31  67\n",
              "2     1  23  51  31  69\n",
              "3     0   2  10  36  46\n",
              "4     1  20  52  30  65"
            ]
          },
          "metadata": {},
          "execution_count": 2
        }
      ]
    },
    {
      "cell_type": "code",
      "metadata": {
        "id": "ebC_iRnncj-b",
        "colab": {
          "base_uri": "https://localhost:8080/"
        },
        "outputId": "e2154207-1a5a-42f9-8a33-9eb5b2bc06ee"
      },
      "source": [
        "df.isnull().sum()"
      ],
      "execution_count": null,
      "outputs": [
        {
          "output_type": "execute_result",
          "data": {
            "text/plain": [
              "Type    0\n",
              "PW      0\n",
              "PL      0\n",
              "SW      0\n",
              "SL      0\n",
              "dtype: int64"
            ]
          },
          "metadata": {},
          "execution_count": 3
        }
      ]
    },
    {
      "cell_type": "code",
      "metadata": {
        "colab": {
          "base_uri": "https://localhost:8080/"
        },
        "id": "G-oTIk9E0I5L",
        "outputId": "d168cb1f-fd56-4dbb-c7d4-23bf6b25aec5"
      },
      "source": [
        "df.dtypes"
      ],
      "execution_count": null,
      "outputs": [
        {
          "output_type": "execute_result",
          "data": {
            "text/plain": [
              "Type    int64\n",
              "PW      int64\n",
              "PL      int64\n",
              "SW      int64\n",
              "SL      int64\n",
              "dtype: object"
            ]
          },
          "metadata": {},
          "execution_count": 4
        }
      ]
    },
    {
      "cell_type": "code",
      "metadata": {
        "colab": {
          "base_uri": "https://localhost:8080/"
        },
        "id": "J91pOWyXlup_",
        "outputId": "fabeab96-77c2-42c9-d936-8e7fca136303"
      },
      "source": [
        "df['Type'].value_counts()"
      ],
      "execution_count": null,
      "outputs": [
        {
          "output_type": "execute_result",
          "data": {
            "text/plain": [
              "0    50\n",
              "1    50\n",
              "2    50\n",
              "Name: Type, dtype: int64"
            ]
          },
          "metadata": {},
          "execution_count": 5
        }
      ]
    },
    {
      "cell_type": "code",
      "metadata": {
        "id": "xXhAcneEw4x_"
      },
      "source": [
        "X = df.drop('Type', axis=1)\n",
        "Y = df['Type']"
      ],
      "execution_count": null,
      "outputs": []
    },
    {
      "cell_type": "code",
      "metadata": {
        "id": "7A87ucPIw4yJ"
      },
      "source": [
        "from sklearn.model_selection import train_test_split\n",
        "Xtrain, Xtest, Ytrain, Ytest = train_test_split(X, Y, test_size=0.25, random_state=22)"
      ],
      "execution_count": null,
      "outputs": []
    },
    {
      "cell_type": "code",
      "metadata": {
        "id": "Yo52dTdULIvQ",
        "colab": {
          "base_uri": "https://localhost:8080/"
        },
        "outputId": "6bc5ff88-e333-4d49-c192-514f854cec03"
      },
      "source": [
        "from sklearn.naive_bayes import GaussianNB\n",
        "GNB = GaussianNB()\n",
        "GNB.fit(Xtrain, Ytrain)\n",
        "pred = GNB.predict(Xtest)\n",
        "pred"
      ],
      "execution_count": null,
      "outputs": [
        {
          "output_type": "execute_result",
          "data": {
            "text/plain": [
              "array([0, 2, 2, 2, 1, 0, 2, 2, 0, 2, 1, 0, 1, 2, 2, 0, 0, 1, 0, 0, 0, 0,\n",
              "       1, 1, 2, 1, 1, 0, 1, 1, 2, 2, 2, 2, 1, 0, 2, 1])"
            ]
          },
          "metadata": {},
          "execution_count": 8
        }
      ]
    },
    {
      "cell_type": "code",
      "metadata": {
        "scrolled": true,
        "id": "QHGuftUqw4yU",
        "colab": {
          "base_uri": "https://localhost:8080/"
        },
        "outputId": "fa09db31-e9f2-4b09-acd4-f8576c051444"
      },
      "source": [
        "from sklearn.metrics import confusion_matrix, accuracy_score\n",
        "GNB = GaussianNB()\n",
        "GNB.fit(Xtrain, Ytrain)\n",
        "pred = GNB.predict(Xtest)\n",
        "\n",
        "print(confusion_matrix(Ytest, pred))\n",
        "print(accuracy_score(Ytest, pred))"
      ],
      "execution_count": null,
      "outputs": [
        {
          "output_type": "stream",
          "name": "stdout",
          "text": [
            "[[12  0  0]\n",
            " [ 0 11  1]\n",
            " [ 0  1 13]]\n",
            "0.9473684210526315\n"
          ]
        }
      ]
    },
    {
      "cell_type": "code",
      "metadata": {
        "id": "lYW7nZz0ve78",
        "colab": {
          "base_uri": "https://localhost:8080/"
        },
        "outputId": "f97065b8-a04b-4903-b6e4-5b8e4d7d4ec5"
      },
      "source": [
        "from sklearn.naive_bayes import MultinomialNB\n",
        "MNB = MultinomialNB()\n",
        "MNB.fit(Xtrain, Ytrain)\n",
        "pred = MNB.predict(Xtest)\n",
        "\n",
        "print(confusion_matrix(Ytest, pred))\n",
        "print(accuracy_score(Ytest, pred))"
      ],
      "execution_count": null,
      "outputs": [
        {
          "output_type": "stream",
          "name": "stdout",
          "text": [
            "[[12  0  0]\n",
            " [ 0 12  0]\n",
            " [ 0  1 13]]\n",
            "0.9736842105263158\n"
          ]
        }
      ]
    },
    {
      "cell_type": "code",
      "metadata": {
        "id": "CkUxKqykLaUO",
        "colab": {
          "base_uri": "https://localhost:8080/"
        },
        "outputId": "261ffbe3-c411-42cd-a54b-660d2f6226d4"
      },
      "source": [
        "from sklearn.neighbors import KNeighborsClassifier\n",
        "KNN = KNeighborsClassifier(n_neighbors=5, weights='uniform', n_jobs=3)\n",
        "KNN.fit(Xtrain, Ytrain)\n",
        "pred = KNN.predict(Xtest)\n",
        "\n",
        "print(confusion_matrix(Ytest, pred))\n",
        "print(accuracy_score(Ytest, pred))\n"
      ],
      "execution_count": null,
      "outputs": [
        {
          "output_type": "stream",
          "name": "stdout",
          "text": [
            "[[12  0  0]\n",
            " [ 0 12  0]\n",
            " [ 0  2 12]]\n",
            "0.9473684210526315\n"
          ]
        }
      ]
    },
    {
      "cell_type": "code",
      "metadata": {
        "id": "Oxx58o7jOJ9i",
        "colab": {
          "base_uri": "https://localhost:8080/"
        },
        "outputId": "2c7f2ab4-342b-472c-cbfc-0b9465e178e5"
      },
      "source": [
        "from sklearn.tree import DecisionTreeClassifier\n",
        "DT = DecisionTreeClassifier(criterion='entropy', max_depth=5, min_samples_split=7, min_samples_leaf=2,\n",
        "                            class_weight={0:0.33 , 1:0.33, 2:0.33}, random_state=2)\n",
        "DT.fit(Xtrain, Ytrain)\n",
        "pred = DT.predict(Xtest)\n",
        "\n",
        "print(confusion_matrix(Ytest, pred))\n",
        "print(accuracy_score(Ytest, pred))"
      ],
      "execution_count": null,
      "outputs": [
        {
          "output_type": "stream",
          "name": "stdout",
          "text": [
            "[[12  0  0]\n",
            " [ 0 11  1]\n",
            " [ 0  1 13]]\n",
            "0.9473684210526315\n"
          ]
        }
      ]
    },
    {
      "cell_type": "code",
      "metadata": {
        "id": "ex12Cp8tSTa9",
        "colab": {
          "base_uri": "https://localhost:8080/"
        },
        "outputId": "9ed8c34b-7fff-4450-b718-5ca32acffdf9"
      },
      "source": [
        "pred = DT.predict_proba(Xtest)\n",
        "pred"
      ],
      "execution_count": null,
      "outputs": [
        {
          "output_type": "execute_result",
          "data": {
            "text/plain": [
              "array([[1.        , 0.        , 0.        ],\n",
              "       [0.        , 0.        , 1.        ],\n",
              "       [0.        , 0.        , 1.        ],\n",
              "       [0.        , 0.        , 1.        ],\n",
              "       [0.        , 1.        , 0.        ],\n",
              "       [1.        , 0.        , 0.        ],\n",
              "       [0.        , 0.        , 1.        ],\n",
              "       [0.        , 0.        , 1.        ],\n",
              "       [1.        , 0.        , 0.        ],\n",
              "       [0.        , 0.        , 1.        ],\n",
              "       [0.        , 0.5       , 0.5       ],\n",
              "       [1.        , 0.        , 0.        ],\n",
              "       [0.        , 0.66666667, 0.33333333],\n",
              "       [0.        , 0.        , 1.        ],\n",
              "       [0.        , 0.        , 1.        ],\n",
              "       [1.        , 0.        , 0.        ],\n",
              "       [1.        , 0.        , 0.        ],\n",
              "       [0.        , 1.        , 0.        ],\n",
              "       [1.        , 0.        , 0.        ],\n",
              "       [1.        , 0.        , 0.        ],\n",
              "       [1.        , 0.        , 0.        ],\n",
              "       [1.        , 0.        , 0.        ],\n",
              "       [0.        , 1.        , 0.        ],\n",
              "       [0.        , 1.        , 0.        ],\n",
              "       [0.        , 0.        , 1.        ],\n",
              "       [0.        , 1.        , 0.        ],\n",
              "       [0.        , 1.        , 0.        ],\n",
              "       [1.        , 0.        , 0.        ],\n",
              "       [0.        , 1.        , 0.        ],\n",
              "       [0.        , 1.        , 0.        ],\n",
              "       [0.        , 0.        , 1.        ],\n",
              "       [0.        , 0.        , 1.        ],\n",
              "       [0.        , 0.        , 1.        ],\n",
              "       [0.        , 0.        , 1.        ],\n",
              "       [0.        , 1.        , 0.        ],\n",
              "       [1.        , 0.        , 0.        ],\n",
              "       [0.        , 0.        , 1.        ],\n",
              "       [0.        , 1.        , 0.        ]])"
            ]
          },
          "metadata": {},
          "execution_count": 13
        }
      ]
    },
    {
      "cell_type": "code",
      "source": [
        "from sklearn.tree import export_graphviz\n",
        "export_graphviz(DT, out_file=\"tree.dot\",class_names=True,feature_names=X.columns, filled=True)\n",
        "\n",
        "import graphviz\n",
        "with open(\"tree.dot\") as f:\n",
        "    dot_graph = f.read()\n",
        "graphviz.Source(dot_graph)"
      ],
      "metadata": {
        "colab": {
          "base_uri": "https://localhost:8080/",
          "height": 757
        },
        "id": "2Z-zDZTOEQ_x",
        "outputId": "038ec872-51aa-497f-e8f0-8908ed56d5e5"
      },
      "execution_count": null,
      "outputs": [
        {
          "output_type": "execute_result",
          "data": {
            "text/plain": [
              "<graphviz.files.Source at 0x7f1d6793b050>"
            ],
            "image/svg+xml": "<?xml version=\"1.0\" encoding=\"UTF-8\" standalone=\"no\"?>\n<!DOCTYPE svg PUBLIC \"-//W3C//DTD SVG 1.1//EN\"\n \"http://www.w3.org/Graphics/SVG/1.1/DTD/svg11.dtd\">\n<!-- Generated by graphviz version 2.40.1 (20161225.0304)\n -->\n<!-- Title: Tree Pages: 1 -->\n<svg width=\"830pt\" height=\"552pt\"\n viewBox=\"0.00 0.00 830.00 552.00\" xmlns=\"http://www.w3.org/2000/svg\" xmlns:xlink=\"http://www.w3.org/1999/xlink\">\n<g id=\"graph0\" class=\"graph\" transform=\"scale(1 1) rotate(0) translate(4 548)\">\n<title>Tree</title>\n<polygon fill=\"#ffffff\" stroke=\"transparent\" points=\"-4,4 -4,-548 826,-548 826,4 -4,4\"/>\n<!-- 0 -->\n<g id=\"node1\" class=\"node\">\n<title>0</title>\n<polygon fill=\"#ffffff\" stroke=\"#000000\" points=\"461.5,-544 261.5,-544 261.5,-461 461.5,-461 461.5,-544\"/>\n<text text-anchor=\"middle\" x=\"361.5\" y=\"-528.8\" font-family=\"Helvetica,sans-Serif\" font-size=\"14.00\" fill=\"#000000\">PW &lt;= 8.0</text>\n<text text-anchor=\"middle\" x=\"361.5\" y=\"-513.8\" font-family=\"Helvetica,sans-Serif\" font-size=\"14.00\" fill=\"#000000\">entropy = 1.584</text>\n<text text-anchor=\"middle\" x=\"361.5\" y=\"-498.8\" font-family=\"Helvetica,sans-Serif\" font-size=\"14.00\" fill=\"#000000\">samples = 112</text>\n<text text-anchor=\"middle\" x=\"361.5\" y=\"-483.8\" font-family=\"Helvetica,sans-Serif\" font-size=\"14.00\" fill=\"#000000\">value = [12.54, 12.54, 11.88]</text>\n<text text-anchor=\"middle\" x=\"361.5\" y=\"-468.8\" font-family=\"Helvetica,sans-Serif\" font-size=\"14.00\" fill=\"#000000\">class = y[0]</text>\n</g>\n<!-- 1 -->\n<g id=\"node2\" class=\"node\">\n<title>1</title>\n<polygon fill=\"#e58139\" stroke=\"#000000\" points=\"348,-417.5 181,-417.5 181,-349.5 348,-349.5 348,-417.5\"/>\n<text text-anchor=\"middle\" x=\"264.5\" y=\"-402.3\" font-family=\"Helvetica,sans-Serif\" font-size=\"14.00\" fill=\"#000000\">entropy = 0.0</text>\n<text text-anchor=\"middle\" x=\"264.5\" y=\"-387.3\" font-family=\"Helvetica,sans-Serif\" font-size=\"14.00\" fill=\"#000000\">samples = 38</text>\n<text text-anchor=\"middle\" x=\"264.5\" y=\"-372.3\" font-family=\"Helvetica,sans-Serif\" font-size=\"14.00\" fill=\"#000000\">value = [12.54, 0.0, 0.0]</text>\n<text text-anchor=\"middle\" x=\"264.5\" y=\"-357.3\" font-family=\"Helvetica,sans-Serif\" font-size=\"14.00\" fill=\"#000000\">class = y[0]</text>\n</g>\n<!-- 0&#45;&gt;1 -->\n<g id=\"edge1\" class=\"edge\">\n<title>0&#45;&gt;1</title>\n<path fill=\"none\" stroke=\"#000000\" d=\"M327.5741,-460.8796C318.2524,-449.4436 308.1388,-437.0363 298.7964,-425.575\"/>\n<polygon fill=\"#000000\" stroke=\"#000000\" points=\"301.5021,-423.3548 292.471,-417.8149 296.0763,-427.7775 301.5021,-423.3548\"/>\n<text text-anchor=\"middle\" x=\"289.9378\" y=\"-438.9863\" font-family=\"Helvetica,sans-Serif\" font-size=\"14.00\" fill=\"#000000\">True</text>\n</g>\n<!-- 2 -->\n<g id=\"node3\" class=\"node\">\n<title>2</title>\n<polygon fill=\"#f5fef8\" stroke=\"#000000\" points=\"550.5,-425 366.5,-425 366.5,-342 550.5,-342 550.5,-425\"/>\n<text text-anchor=\"middle\" x=\"458.5\" y=\"-409.8\" font-family=\"Helvetica,sans-Serif\" font-size=\"14.00\" fill=\"#000000\">PW &lt;= 17.5</text>\n<text text-anchor=\"middle\" x=\"458.5\" y=\"-394.8\" font-family=\"Helvetica,sans-Serif\" font-size=\"14.00\" fill=\"#000000\">entropy = 0.999</text>\n<text text-anchor=\"middle\" x=\"458.5\" y=\"-379.8\" font-family=\"Helvetica,sans-Serif\" font-size=\"14.00\" fill=\"#000000\">samples = 74</text>\n<text text-anchor=\"middle\" x=\"458.5\" y=\"-364.8\" font-family=\"Helvetica,sans-Serif\" font-size=\"14.00\" fill=\"#000000\">value = [0.0, 12.54, 11.88]</text>\n<text text-anchor=\"middle\" x=\"458.5\" y=\"-349.8\" font-family=\"Helvetica,sans-Serif\" font-size=\"14.00\" fill=\"#000000\">class = y[1]</text>\n</g>\n<!-- 0&#45;&gt;2 -->\n<g id=\"edge2\" class=\"edge\">\n<title>0&#45;&gt;2</title>\n<path fill=\"none\" stroke=\"#000000\" d=\"M395.4259,-460.8796C402.6938,-451.9633 410.443,-442.4565 417.9328,-433.268\"/>\n<polygon fill=\"#000000\" stroke=\"#000000\" points=\"420.824,-435.2606 424.4293,-425.2981 415.3982,-430.8379 420.824,-435.2606\"/>\n<text text-anchor=\"middle\" x=\"426.9625\" y=\"-446.4694\" font-family=\"Helvetica,sans-Serif\" font-size=\"14.00\" fill=\"#000000\">False</text>\n</g>\n<!-- 3 -->\n<g id=\"node4\" class=\"node\">\n<title>3</title>\n<polygon fill=\"#9355e9\" stroke=\"#000000\" points=\"449.5,-306 273.5,-306 273.5,-223 449.5,-223 449.5,-306\"/>\n<text text-anchor=\"middle\" x=\"361.5\" y=\"-290.8\" font-family=\"Helvetica,sans-Serif\" font-size=\"14.00\" fill=\"#000000\">PL &lt;= 50.5</text>\n<text text-anchor=\"middle\" x=\"361.5\" y=\"-275.8\" font-family=\"Helvetica,sans-Serif\" font-size=\"14.00\" fill=\"#000000\">entropy = 0.544</text>\n<text text-anchor=\"middle\" x=\"361.5\" y=\"-260.8\" font-family=\"Helvetica,sans-Serif\" font-size=\"14.00\" fill=\"#000000\">samples = 40</text>\n<text text-anchor=\"middle\" x=\"361.5\" y=\"-245.8\" font-family=\"Helvetica,sans-Serif\" font-size=\"14.00\" fill=\"#000000\">value = [0.0, 1.65, 11.55]</text>\n<text text-anchor=\"middle\" x=\"361.5\" y=\"-230.8\" font-family=\"Helvetica,sans-Serif\" font-size=\"14.00\" fill=\"#000000\">class = y[2]</text>\n</g>\n<!-- 2&#45;&gt;3 -->\n<g id=\"edge3\" class=\"edge\">\n<title>2&#45;&gt;3</title>\n<path fill=\"none\" stroke=\"#000000\" d=\"M424.5741,-341.8796C417.3062,-332.9633 409.557,-323.4565 402.0672,-314.268\"/>\n<polygon fill=\"#000000\" stroke=\"#000000\" points=\"404.6018,-311.8379 395.5707,-306.2981 399.176,-316.2606 404.6018,-311.8379\"/>\n</g>\n<!-- 8 -->\n<g id=\"node9\" class=\"node\">\n<title>8</title>\n<polygon fill=\"#3fe685\" stroke=\"#000000\" points=\"643.5,-306 467.5,-306 467.5,-223 643.5,-223 643.5,-306\"/>\n<text text-anchor=\"middle\" x=\"555.5\" y=\"-290.8\" font-family=\"Helvetica,sans-Serif\" font-size=\"14.00\" fill=\"#000000\">PL &lt;= 48.5</text>\n<text text-anchor=\"middle\" x=\"555.5\" y=\"-275.8\" font-family=\"Helvetica,sans-Serif\" font-size=\"14.00\" fill=\"#000000\">entropy = 0.191</text>\n<text text-anchor=\"middle\" x=\"555.5\" y=\"-260.8\" font-family=\"Helvetica,sans-Serif\" font-size=\"14.00\" fill=\"#000000\">samples = 34</text>\n<text text-anchor=\"middle\" x=\"555.5\" y=\"-245.8\" font-family=\"Helvetica,sans-Serif\" font-size=\"14.00\" fill=\"#000000\">value = [0.0, 10.89, 0.33]</text>\n<text text-anchor=\"middle\" x=\"555.5\" y=\"-230.8\" font-family=\"Helvetica,sans-Serif\" font-size=\"14.00\" fill=\"#000000\">class = y[1]</text>\n</g>\n<!-- 2&#45;&gt;8 -->\n<g id=\"edge8\" class=\"edge\">\n<title>2&#45;&gt;8</title>\n<path fill=\"none\" stroke=\"#000000\" d=\"M492.4259,-341.8796C499.6938,-332.9633 507.443,-323.4565 514.9328,-314.268\"/>\n<polygon fill=\"#000000\" stroke=\"#000000\" points=\"517.824,-316.2606 521.4293,-306.2981 512.3982,-311.8379 517.824,-316.2606\"/>\n</g>\n<!-- 4 -->\n<g id=\"node5\" class=\"node\">\n<title>4</title>\n<polygon fill=\"#853fe6\" stroke=\"#000000\" points=\"263.5,-187 87.5,-187 87.5,-104 263.5,-104 263.5,-187\"/>\n<text text-anchor=\"middle\" x=\"175.5\" y=\"-171.8\" font-family=\"Helvetica,sans-Serif\" font-size=\"14.00\" fill=\"#000000\">SL &lt;= 49.5</text>\n<text text-anchor=\"middle\" x=\"175.5\" y=\"-156.8\" font-family=\"Helvetica,sans-Serif\" font-size=\"14.00\" fill=\"#000000\">entropy = 0.191</text>\n<text text-anchor=\"middle\" x=\"175.5\" y=\"-141.8\" font-family=\"Helvetica,sans-Serif\" font-size=\"14.00\" fill=\"#000000\">samples = 34</text>\n<text text-anchor=\"middle\" x=\"175.5\" y=\"-126.8\" font-family=\"Helvetica,sans-Serif\" font-size=\"14.00\" fill=\"#000000\">value = [0.0, 0.33, 10.89]</text>\n<text text-anchor=\"middle\" x=\"175.5\" y=\"-111.8\" font-family=\"Helvetica,sans-Serif\" font-size=\"14.00\" fill=\"#000000\">class = y[2]</text>\n</g>\n<!-- 3&#45;&gt;4 -->\n<g id=\"edge4\" class=\"edge\">\n<title>3&#45;&gt;4</title>\n<path fill=\"none\" stroke=\"#000000\" d=\"M296.4462,-222.8796C281.1546,-213.0962 264.7516,-202.6019 249.114,-192.5971\"/>\n<polygon fill=\"#000000\" stroke=\"#000000\" points=\"250.8268,-189.538 240.517,-187.0969 247.0543,-195.4345 250.8268,-189.538\"/>\n</g>\n<!-- 7 -->\n<g id=\"node8\" class=\"node\">\n<title>7</title>\n<polygon fill=\"#9cf2c0\" stroke=\"#000000\" points=\"448,-179.5 281,-179.5 281,-111.5 448,-111.5 448,-179.5\"/>\n<text text-anchor=\"middle\" x=\"364.5\" y=\"-164.3\" font-family=\"Helvetica,sans-Serif\" font-size=\"14.00\" fill=\"#000000\">entropy = 0.918</text>\n<text text-anchor=\"middle\" x=\"364.5\" y=\"-149.3\" font-family=\"Helvetica,sans-Serif\" font-size=\"14.00\" fill=\"#000000\">samples = 6</text>\n<text text-anchor=\"middle\" x=\"364.5\" y=\"-134.3\" font-family=\"Helvetica,sans-Serif\" font-size=\"14.00\" fill=\"#000000\">value = [0.0, 1.32, 0.66]</text>\n<text text-anchor=\"middle\" x=\"364.5\" y=\"-119.3\" font-family=\"Helvetica,sans-Serif\" font-size=\"14.00\" fill=\"#000000\">class = y[1]</text>\n</g>\n<!-- 3&#45;&gt;7 -->\n<g id=\"edge7\" class=\"edge\">\n<title>3&#45;&gt;7</title>\n<path fill=\"none\" stroke=\"#000000\" d=\"M362.5493,-222.8796C362.8182,-212.2134 363.1084,-200.7021 363.3806,-189.9015\"/>\n<polygon fill=\"#000000\" stroke=\"#000000\" points=\"366.8817,-189.9 363.6349,-179.8149 359.8839,-189.7235 366.8817,-189.9\"/>\n</g>\n<!-- 5 -->\n<g id=\"node6\" class=\"node\">\n<title>5</title>\n<polygon fill=\"#ffffff\" stroke=\"#000000\" points=\"167,-68 0,-68 0,0 167,0 167,-68\"/>\n<text text-anchor=\"middle\" x=\"83.5\" y=\"-52.8\" font-family=\"Helvetica,sans-Serif\" font-size=\"14.00\" fill=\"#000000\">entropy = 1.0</text>\n<text text-anchor=\"middle\" x=\"83.5\" y=\"-37.8\" font-family=\"Helvetica,sans-Serif\" font-size=\"14.00\" fill=\"#000000\">samples = 2</text>\n<text text-anchor=\"middle\" x=\"83.5\" y=\"-22.8\" font-family=\"Helvetica,sans-Serif\" font-size=\"14.00\" fill=\"#000000\">value = [0.0, 0.33, 0.33]</text>\n<text text-anchor=\"middle\" x=\"83.5\" y=\"-7.8\" font-family=\"Helvetica,sans-Serif\" font-size=\"14.00\" fill=\"#000000\">class = y[1]</text>\n</g>\n<!-- 4&#45;&gt;5 -->\n<g id=\"edge5\" class=\"edge\">\n<title>4&#45;&gt;5</title>\n<path fill=\"none\" stroke=\"#000000\" d=\"M141.2426,-103.9815C133.7351,-94.8828 125.7804,-85.242 118.2536,-76.1199\"/>\n<polygon fill=\"#000000\" stroke=\"#000000\" points=\"120.8354,-73.7495 111.7714,-68.2637 115.4361,-78.2045 120.8354,-73.7495\"/>\n</g>\n<!-- 6 -->\n<g id=\"node7\" class=\"node\">\n<title>6</title>\n<polygon fill=\"#8139e5\" stroke=\"#000000\" points=\"352,-68 185,-68 185,0 352,0 352,-68\"/>\n<text text-anchor=\"middle\" x=\"268.5\" y=\"-52.8\" font-family=\"Helvetica,sans-Serif\" font-size=\"14.00\" fill=\"#000000\">entropy = 0.0</text>\n<text text-anchor=\"middle\" x=\"268.5\" y=\"-37.8\" font-family=\"Helvetica,sans-Serif\" font-size=\"14.00\" fill=\"#000000\">samples = 32</text>\n<text text-anchor=\"middle\" x=\"268.5\" y=\"-22.8\" font-family=\"Helvetica,sans-Serif\" font-size=\"14.00\" fill=\"#000000\">value = [0.0, 0.0, 10.56]</text>\n<text text-anchor=\"middle\" x=\"268.5\" y=\"-7.8\" font-family=\"Helvetica,sans-Serif\" font-size=\"14.00\" fill=\"#000000\">class = y[2]</text>\n</g>\n<!-- 4&#45;&gt;6 -->\n<g id=\"edge6\" class=\"edge\">\n<title>4&#45;&gt;6</title>\n<path fill=\"none\" stroke=\"#000000\" d=\"M210.1298,-103.9815C217.7189,-94.8828 225.76,-85.242 233.3686,-76.1199\"/>\n<polygon fill=\"#000000\" stroke=\"#000000\" points=\"236.2039,-78.1849 239.9213,-68.2637 230.8283,-73.7012 236.2039,-78.1849\"/>\n</g>\n<!-- 9 -->\n<g id=\"node10\" class=\"node\">\n<title>9</title>\n<polygon fill=\"#ffffff\" stroke=\"#000000\" points=\"637,-179.5 470,-179.5 470,-111.5 637,-111.5 637,-179.5\"/>\n<text text-anchor=\"middle\" x=\"553.5\" y=\"-164.3\" font-family=\"Helvetica,sans-Serif\" font-size=\"14.00\" fill=\"#000000\">entropy = 1.0</text>\n<text text-anchor=\"middle\" x=\"553.5\" y=\"-149.3\" font-family=\"Helvetica,sans-Serif\" font-size=\"14.00\" fill=\"#000000\">samples = 2</text>\n<text text-anchor=\"middle\" x=\"553.5\" y=\"-134.3\" font-family=\"Helvetica,sans-Serif\" font-size=\"14.00\" fill=\"#000000\">value = [0.0, 0.33, 0.33]</text>\n<text text-anchor=\"middle\" x=\"553.5\" y=\"-119.3\" font-family=\"Helvetica,sans-Serif\" font-size=\"14.00\" fill=\"#000000\">class = y[1]</text>\n</g>\n<!-- 8&#45;&gt;9 -->\n<g id=\"edge9\" class=\"edge\">\n<title>8&#45;&gt;9</title>\n<path fill=\"none\" stroke=\"#000000\" d=\"M554.8005,-222.8796C554.6212,-212.2134 554.4278,-200.7021 554.2462,-189.9015\"/>\n<polygon fill=\"#000000\" stroke=\"#000000\" points=\"557.7444,-189.7547 554.0767,-179.8149 550.7454,-189.8724 557.7444,-189.7547\"/>\n</g>\n<!-- 10 -->\n<g id=\"node11\" class=\"node\">\n<title>10</title>\n<polygon fill=\"#39e581\" stroke=\"#000000\" points=\"822,-179.5 655,-179.5 655,-111.5 822,-111.5 822,-179.5\"/>\n<text text-anchor=\"middle\" x=\"738.5\" y=\"-164.3\" font-family=\"Helvetica,sans-Serif\" font-size=\"14.00\" fill=\"#000000\">entropy = 0.0</text>\n<text text-anchor=\"middle\" x=\"738.5\" y=\"-149.3\" font-family=\"Helvetica,sans-Serif\" font-size=\"14.00\" fill=\"#000000\">samples = 32</text>\n<text text-anchor=\"middle\" x=\"738.5\" y=\"-134.3\" font-family=\"Helvetica,sans-Serif\" font-size=\"14.00\" fill=\"#000000\">value = [0.0, 10.56, 0.0]</text>\n<text text-anchor=\"middle\" x=\"738.5\" y=\"-119.3\" font-family=\"Helvetica,sans-Serif\" font-size=\"14.00\" fill=\"#000000\">class = y[1]</text>\n</g>\n<!-- 8&#45;&gt;10 -->\n<g id=\"edge10\" class=\"edge\">\n<title>8&#45;&gt;10</title>\n<path fill=\"none\" stroke=\"#000000\" d=\"M619.5045,-222.8796C638.3639,-210.6158 658.9414,-197.2348 677.6002,-185.1015\"/>\n<polygon fill=\"#000000\" stroke=\"#000000\" points=\"679.5497,-188.0088 686.0251,-179.623 675.7336,-182.1404 679.5497,-188.0088\"/>\n</g>\n</g>\n</svg>\n"
          },
          "metadata": {},
          "execution_count": 16
        }
      ]
    },
    {
      "cell_type": "code",
      "source": [
        ""
      ],
      "metadata": {
        "id": "_xmoNIMFEUuy"
      },
      "execution_count": null,
      "outputs": []
    },
    {
      "cell_type": "code",
      "source": [
        "from sklearn.neural_network import MLPClassifier\n",
        "MLP = MLPClassifier(max_iter=200, random_state=2020, activation='relu', hidden_layer_sizes=(10,20),\n",
        "                    learning_rate_init=0.01, learning_rate='invscaling')\n",
        "\n",
        "MLP.fit(Xtrain, Ytrain)\n",
        "pred = MLP.predict(Xtest)\n",
        "\n",
        "print(confusion_matrix(Ytest, pred))\n",
        "print(accuracy_score(Ytest, pred))"
      ],
      "metadata": {
        "colab": {
          "base_uri": "https://localhost:8080/"
        },
        "id": "YXlM9-Soql08",
        "outputId": "24032c2b-7284-48dd-837d-ef44d5048061"
      },
      "execution_count": null,
      "outputs": [
        {
          "output_type": "stream",
          "name": "stdout",
          "text": [
            "[[12  0  0]\n",
            " [ 0 12  0]\n",
            " [ 0  3 11]]\n",
            "0.9210526315789473\n"
          ]
        },
        {
          "output_type": "stream",
          "name": "stderr",
          "text": [
            "/usr/local/lib/python3.7/dist-packages/sklearn/neural_network/_multilayer_perceptron.py:696: ConvergenceWarning: Stochastic Optimizer: Maximum iterations (200) reached and the optimization hasn't converged yet.\n",
            "  ConvergenceWarning,\n"
          ]
        }
      ]
    },
    {
      "cell_type": "code",
      "metadata": {
        "id": "eSe9CMMUw4yd",
        "colab": {
          "base_uri": "https://localhost:8080/"
        },
        "outputId": "afbca7cc-2b70-4e0e-f655-b0bf7f82b8de"
      },
      "source": [
        "from sklearn.neural_network import MLPClassifier\n",
        "MLP = MLPClassifier(max_iter=200, random_state=2020, verbose=1, validation_fraction=0.1, \n",
        "                    activation='relu', hidden_layer_sizes=(10,20), early_stopping=True, n_iter_no_change=10,\n",
        "                    learning_rate_init=0.01, learning_rate='invscaling')\n",
        "\n",
        "MLP.fit(Xtrain, Ytrain)\n",
        "pred = MLP.predict(Xtest)\n",
        "print(confusion_matrix(Ytest, pred))\n",
        "print(accuracy_score(Ytest, pred))"
      ],
      "execution_count": null,
      "outputs": [
        {
          "output_type": "stream",
          "name": "stdout",
          "text": [
            "Iteration 1, loss = 4.57574620\n",
            "Validation score: 0.166667\n",
            "Iteration 2, loss = 2.98403357\n",
            "Validation score: 0.166667\n",
            "Iteration 3, loss = 2.21869511\n",
            "Validation score: 0.250000\n",
            "Iteration 4, loss = 1.06751614\n",
            "Validation score: 0.833333\n",
            "Iteration 5, loss = 0.71693971\n",
            "Validation score: 0.833333\n",
            "Iteration 6, loss = 0.69341120\n",
            "Validation score: 0.500000\n",
            "Iteration 7, loss = 0.73670193\n",
            "Validation score: 0.583333\n",
            "Iteration 8, loss = 0.74285015\n",
            "Validation score: 0.583333\n",
            "Iteration 9, loss = 0.64766129\n",
            "Validation score: 0.583333\n",
            "Iteration 10, loss = 0.52437414\n",
            "Validation score: 0.666667\n",
            "Iteration 11, loss = 0.39464339\n",
            "Validation score: 0.833333\n",
            "Iteration 12, loss = 0.30749344\n",
            "Validation score: 0.916667\n",
            "Iteration 13, loss = 0.28239924\n",
            "Validation score: 0.916667\n",
            "Iteration 14, loss = 0.27129237\n",
            "Validation score: 0.916667\n",
            "Iteration 15, loss = 0.24199492\n",
            "Validation score: 0.833333\n",
            "Iteration 16, loss = 0.22003061\n",
            "Validation score: 0.833333\n",
            "Iteration 17, loss = 0.21708780\n",
            "Validation score: 0.833333\n",
            "Iteration 18, loss = 0.21081110\n",
            "Validation score: 0.833333\n",
            "Iteration 19, loss = 0.19077473\n",
            "Validation score: 0.916667\n",
            "Iteration 20, loss = 0.17364156\n",
            "Validation score: 0.916667\n",
            "Iteration 21, loss = 0.17503490\n",
            "Validation score: 0.916667\n",
            "Iteration 22, loss = 0.17614184\n",
            "Validation score: 0.916667\n",
            "Iteration 23, loss = 0.16319815\n",
            "Validation score: 0.916667\n",
            "Validation score did not improve more than tol=0.000100 for 10 consecutive epochs. Stopping.\n",
            "[[12  0  0]\n",
            " [ 0 12  0]\n",
            " [ 0  0 14]]\n",
            "1.0\n"
          ]
        },
        {
          "output_type": "stream",
          "name": "stderr",
          "text": [
            "/usr/local/lib/python3.7/dist-packages/sklearn/base.py:446: UserWarning: X does not have valid feature names, but MLPClassifier was fitted with feature names\n",
            "  \"X does not have valid feature names, but\"\n",
            "/usr/local/lib/python3.7/dist-packages/sklearn/base.py:446: UserWarning: X does not have valid feature names, but MLPClassifier was fitted with feature names\n",
            "  \"X does not have valid feature names, but\"\n",
            "/usr/local/lib/python3.7/dist-packages/sklearn/base.py:446: UserWarning: X does not have valid feature names, but MLPClassifier was fitted with feature names\n",
            "  \"X does not have valid feature names, but\"\n",
            "/usr/local/lib/python3.7/dist-packages/sklearn/base.py:446: UserWarning: X does not have valid feature names, but MLPClassifier was fitted with feature names\n",
            "  \"X does not have valid feature names, but\"\n",
            "/usr/local/lib/python3.7/dist-packages/sklearn/base.py:446: UserWarning: X does not have valid feature names, but MLPClassifier was fitted with feature names\n",
            "  \"X does not have valid feature names, but\"\n",
            "/usr/local/lib/python3.7/dist-packages/sklearn/base.py:446: UserWarning: X does not have valid feature names, but MLPClassifier was fitted with feature names\n",
            "  \"X does not have valid feature names, but\"\n",
            "/usr/local/lib/python3.7/dist-packages/sklearn/base.py:446: UserWarning: X does not have valid feature names, but MLPClassifier was fitted with feature names\n",
            "  \"X does not have valid feature names, but\"\n",
            "/usr/local/lib/python3.7/dist-packages/sklearn/base.py:446: UserWarning: X does not have valid feature names, but MLPClassifier was fitted with feature names\n",
            "  \"X does not have valid feature names, but\"\n",
            "/usr/local/lib/python3.7/dist-packages/sklearn/base.py:446: UserWarning: X does not have valid feature names, but MLPClassifier was fitted with feature names\n",
            "  \"X does not have valid feature names, but\"\n",
            "/usr/local/lib/python3.7/dist-packages/sklearn/base.py:446: UserWarning: X does not have valid feature names, but MLPClassifier was fitted with feature names\n",
            "  \"X does not have valid feature names, but\"\n",
            "/usr/local/lib/python3.7/dist-packages/sklearn/base.py:446: UserWarning: X does not have valid feature names, but MLPClassifier was fitted with feature names\n",
            "  \"X does not have valid feature names, but\"\n",
            "/usr/local/lib/python3.7/dist-packages/sklearn/base.py:446: UserWarning: X does not have valid feature names, but MLPClassifier was fitted with feature names\n",
            "  \"X does not have valid feature names, but\"\n",
            "/usr/local/lib/python3.7/dist-packages/sklearn/base.py:446: UserWarning: X does not have valid feature names, but MLPClassifier was fitted with feature names\n",
            "  \"X does not have valid feature names, but\"\n",
            "/usr/local/lib/python3.7/dist-packages/sklearn/base.py:446: UserWarning: X does not have valid feature names, but MLPClassifier was fitted with feature names\n",
            "  \"X does not have valid feature names, but\"\n",
            "/usr/local/lib/python3.7/dist-packages/sklearn/base.py:446: UserWarning: X does not have valid feature names, but MLPClassifier was fitted with feature names\n",
            "  \"X does not have valid feature names, but\"\n",
            "/usr/local/lib/python3.7/dist-packages/sklearn/base.py:446: UserWarning: X does not have valid feature names, but MLPClassifier was fitted with feature names\n",
            "  \"X does not have valid feature names, but\"\n",
            "/usr/local/lib/python3.7/dist-packages/sklearn/base.py:446: UserWarning: X does not have valid feature names, but MLPClassifier was fitted with feature names\n",
            "  \"X does not have valid feature names, but\"\n",
            "/usr/local/lib/python3.7/dist-packages/sklearn/base.py:446: UserWarning: X does not have valid feature names, but MLPClassifier was fitted with feature names\n",
            "  \"X does not have valid feature names, but\"\n",
            "/usr/local/lib/python3.7/dist-packages/sklearn/base.py:446: UserWarning: X does not have valid feature names, but MLPClassifier was fitted with feature names\n",
            "  \"X does not have valid feature names, but\"\n",
            "/usr/local/lib/python3.7/dist-packages/sklearn/base.py:446: UserWarning: X does not have valid feature names, but MLPClassifier was fitted with feature names\n",
            "  \"X does not have valid feature names, but\"\n",
            "/usr/local/lib/python3.7/dist-packages/sklearn/base.py:446: UserWarning: X does not have valid feature names, but MLPClassifier was fitted with feature names\n",
            "  \"X does not have valid feature names, but\"\n",
            "/usr/local/lib/python3.7/dist-packages/sklearn/base.py:446: UserWarning: X does not have valid feature names, but MLPClassifier was fitted with feature names\n",
            "  \"X does not have valid feature names, but\"\n",
            "/usr/local/lib/python3.7/dist-packages/sklearn/base.py:446: UserWarning: X does not have valid feature names, but MLPClassifier was fitted with feature names\n",
            "  \"X does not have valid feature names, but\"\n"
          ]
        }
      ]
    },
    {
      "cell_type": "code",
      "metadata": {
        "id": "5zaabM58w4yh",
        "colab": {
          "base_uri": "https://localhost:8080/"
        },
        "outputId": "325e2bd9-11c1-457b-9475-0ab619624b05"
      },
      "source": [
        "from sklearn.svm import SVC\n",
        "SV_model = SVC(kernel='linear', gamma=0.01, degree=3, C=0.1, class_weight='balanced')\n",
        "SV_model.fit(Xtrain, Ytrain)\n",
        "pred = SV_model.predict(Xtest)\n",
        "\n",
        "print(confusion_matrix(Ytest, pred))\n",
        "print(accuracy_score(Ytest, pred))"
      ],
      "execution_count": null,
      "outputs": [
        {
          "output_type": "stream",
          "name": "stdout",
          "text": [
            "[[12  0  0]\n",
            " [ 0 12  0]\n",
            " [ 0  0 14]]\n",
            "1.0\n"
          ]
        }
      ]
    },
    {
      "cell_type": "code",
      "source": [
        "from sklearn.linear_model import LogisticRegression\n",
        "LR = LogisticRegression(random_state=0, solver='lbfgs', class_weight='balanced', fit_intercept=True)\n",
        "LR.fit(Xtrain, Ytrain)\n",
        "pred = LR.predict(Xtest)\n",
        "\n",
        "print(confusion_matrix(Ytest, pred))\n",
        "print(accuracy_score(Ytest, pred))"
      ],
      "metadata": {
        "colab": {
          "base_uri": "https://localhost:8080/"
        },
        "id": "OehfCtsO2zJh",
        "outputId": "1fc172a8-5732-49ff-fdc7-4cb760f4cb48"
      },
      "execution_count": null,
      "outputs": [
        {
          "output_type": "stream",
          "name": "stdout",
          "text": [
            "[[12  0  0]\n",
            " [ 0 12  0]\n",
            " [ 0  1 13]]\n",
            "0.9736842105263158\n"
          ]
        },
        {
          "output_type": "stream",
          "name": "stderr",
          "text": [
            "/usr/local/lib/python3.7/dist-packages/sklearn/linear_model/_logistic.py:818: ConvergenceWarning: lbfgs failed to converge (status=1):\n",
            "STOP: TOTAL NO. of ITERATIONS REACHED LIMIT.\n",
            "\n",
            "Increase the number of iterations (max_iter) or scale the data as shown in:\n",
            "    https://scikit-learn.org/stable/modules/preprocessing.html\n",
            "Please also refer to the documentation for alternative solver options:\n",
            "    https://scikit-learn.org/stable/modules/linear_model.html#logistic-regression\n",
            "  extra_warning_msg=_LOGISTIC_SOLVER_CONVERGENCE_MSG,\n"
          ]
        }
      ]
    },
    {
      "cell_type": "code",
      "metadata": {
        "id": "j27u5XeK72m2"
      },
      "source": [
        ""
      ],
      "execution_count": null,
      "outputs": []
    },
    {
      "cell_type": "code",
      "source": [
        "df = pd.read_csv(r'/content/sample_data/california_housing_train.csv')\n",
        "X = df.drop('median_house_value', axis=1)\n",
        "Y = df['median_house_value']\n",
        "Xtrain, Xtest, Ytrain, Ytest = train_test_split(X, Y, test_size=0.25, random_state=22)"
      ],
      "metadata": {
        "id": "Bfyw4RyVD7qo"
      },
      "execution_count": null,
      "outputs": []
    },
    {
      "cell_type": "code",
      "metadata": {
        "id": "q_4rc7Tg7o1i",
        "colab": {
          "base_uri": "https://localhost:8080/"
        },
        "outputId": "7ef1bf08-991d-48cd-b97e-bba9c967f40e"
      },
      "source": [
        "from sklearn.neighbors import KNeighborsRegressor\n",
        "KNN = KNeighborsRegressor(n_neighbors=5, weights='uniform', n_jobs=3)\n",
        "KNN.fit(Xtrain, Ytrain)\n",
        "pred = KNN.predict(Xtest)\n",
        "pred"
      ],
      "execution_count": null,
      "outputs": [
        {
          "output_type": "execute_result",
          "data": {
            "text/plain": [
              "array([134540., 222360.,  93120., ..., 111300., 142200., 147840.])"
            ]
          },
          "metadata": {},
          "execution_count": 9
        }
      ]
    },
    {
      "cell_type": "code",
      "source": [
        "from sklearn.metrics import mean_squared_error\n",
        "KNN_R = KNeighborsRegressor(n_neighbors=5, weights='uniform', n_jobs=3)\n",
        "KNN_R.fit(Xtrain, Ytrain)\n",
        "pred = KNN_R.predict(Xtest)\n",
        "\n",
        "print(mean_squared_error(Ytest,pred))"
      ],
      "metadata": {
        "colab": {
          "base_uri": "https://localhost:8080/"
        },
        "id": "gdu-Cuv57OU3",
        "outputId": "b59d46ad-9a1a-45fd-c792-415c281a481f"
      },
      "execution_count": null,
      "outputs": [
        {
          "output_type": "stream",
          "name": "stdout",
          "text": [
            "10152217399.51469\n"
          ]
        }
      ]
    },
    {
      "cell_type": "code",
      "source": [
        "from sklearn.tree import DecisionTreeRegressor\n",
        "DT_R = DecisionTreeRegressor(criterion='mse', max_depth=5, min_samples_split=7, min_samples_leaf=2, random_state=2)\n",
        "DT_R.fit(Xtrain, Ytrain)\n",
        "pred = DT_R.predict(Xtest)\n",
        "\n",
        "print(mean_squared_error(Ytest,pred))"
      ],
      "metadata": {
        "colab": {
          "base_uri": "https://localhost:8080/"
        },
        "id": "7GfVvHrs7cx_",
        "outputId": "ecf7c7e7-2bcd-4539-fb62-6349c6d6b21a"
      },
      "execution_count": null,
      "outputs": [
        {
          "output_type": "stream",
          "name": "stdout",
          "text": [
            "5314964628.237491\n"
          ]
        },
        {
          "output_type": "stream",
          "name": "stderr",
          "text": [
            "/usr/local/lib/python3.7/dist-packages/sklearn/tree/_classes.py:363: FutureWarning: Criterion 'mse' was deprecated in v1.0 and will be removed in version 1.2. Use `criterion='squared_error'` which is equivalent.\n",
            "  FutureWarning,\n"
          ]
        }
      ]
    },
    {
      "cell_type": "code",
      "metadata": {
        "id": "_A7xces190su",
        "colab": {
          "base_uri": "https://localhost:8080/"
        },
        "outputId": "811853ca-6e8d-4c3e-f381-fa8aabf4e28c"
      },
      "source": [
        "from sklearn.neural_network import MLPRegressor\n",
        "MLP_R = MLPRegressor(max_iter=200, random_state=2020, activation='relu', hidden_layer_sizes=(10,20),\n",
        "                    learning_rate_init=0.01, learning_rate='invscaling')\n",
        "MLP_R.fit(Xtrain, Ytrain)\n",
        "pred = MLP_R.predict(Xtest)\n",
        "\n",
        "print(mean_squared_error(Ytest,pred))"
      ],
      "execution_count": null,
      "outputs": [
        {
          "output_type": "stream",
          "name": "stdout",
          "text": [
            "4926882858.3314705\n"
          ]
        }
      ]
    },
    {
      "cell_type": "code",
      "metadata": {
        "id": "nuyMxY4VBxVl",
        "colab": {
          "base_uri": "https://localhost:8080/"
        },
        "outputId": "6fea0e5f-5263-4396-c024-37e3d6fdde01"
      },
      "source": [
        "from sklearn.svm import SVR\n",
        "SV_R = SVR(kernel='rbf', C=1.2)\n",
        "SV_R.fit(Xtrain, Ytrain)\n",
        "pred = SV_R.predict(Xtest)\n",
        "\n",
        "print(mean_squared_error(Ytest,pred))"
      ],
      "execution_count": null,
      "outputs": [
        {
          "output_type": "stream",
          "name": "stdout",
          "text": [
            "14066206806.332731\n"
          ]
        }
      ]
    },
    {
      "cell_type": "code",
      "metadata": {
        "id": "7txrTT6rx7R9",
        "colab": {
          "base_uri": "https://localhost:8080/"
        },
        "outputId": "cdf4965b-097d-45b7-bf6d-243ddbccfe0a"
      },
      "source": [
        "from sklearn.linear_model import LinearRegression\n",
        "REG = LinearRegression(fit_intercept=True, n_jobs=3)\n",
        "REG.fit(Xtrain, Ytrain)\n",
        "pred = REG.predict(Xtest)\n",
        "\n",
        "print(mean_squared_error(Ytest,pred))"
      ],
      "execution_count": null,
      "outputs": [
        {
          "output_type": "stream",
          "name": "stdout",
          "text": [
            "5077868057.887048\n"
          ]
        }
      ]
    },
    {
      "cell_type": "code",
      "source": [
        "REG.coef_"
      ],
      "metadata": {
        "colab": {
          "base_uri": "https://localhost:8080/"
        },
        "id": "9rrxOtNH-0GE",
        "outputId": "530bd5a5-484b-4fd2-ef81-815929f05061"
      },
      "execution_count": null,
      "outputs": [
        {
          "output_type": "execute_result",
          "data": {
            "text/plain": [
              "array([-4.24437489e+04, -4.23343383e+04,  1.17669370e+03, -6.14566806e+00,\n",
              "        1.03281312e+02, -5.05016065e+01,  7.80746792e+01,  4.03406705e+04])"
            ]
          },
          "metadata": {},
          "execution_count": 15
        }
      ]
    },
    {
      "cell_type": "code",
      "source": [
        ""
      ],
      "metadata": {
        "id": "jXOBG4vMDh66"
      },
      "execution_count": null,
      "outputs": []
    },
    {
      "cell_type": "code",
      "source": [
        ""
      ],
      "metadata": {
        "id": "TTQIhxMqfCzI"
      },
      "execution_count": null,
      "outputs": []
    }
  ]
}