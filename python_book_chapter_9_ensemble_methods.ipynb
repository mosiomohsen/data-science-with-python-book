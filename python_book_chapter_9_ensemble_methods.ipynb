{
  "nbformat": 4,
  "nbformat_minor": 0,
  "metadata": {
    "kernelspec": {
      "display_name": "Python 3",
      "language": "python",
      "name": "python3"
    },
    "language_info": {
      "codemirror_mode": {
        "name": "ipython",
        "version": 3
      },
      "file_extension": ".py",
      "mimetype": "text/x-python",
      "name": "python",
      "nbconvert_exporter": "python",
      "pygments_lexer": "ipython3",
      "version": "3.7.3"
    },
    "colab": {
      "name": "python book - chapter 9 - ensemble methods.ipynb",
      "provenance": [],
      "collapsed_sections": []
    }
  },
  "cells": [
    {
      "cell_type": "code",
      "source": [
        "!pip install mlxtend==0.18.0"
      ],
      "metadata": {
        "colab": {
          "base_uri": "https://localhost:8080/"
        },
        "id": "BvCUrqL3nCAv",
        "outputId": "00f4ceb4-e323-4f11-a1e2-e5f459d0449f"
      },
      "execution_count": null,
      "outputs": [
        {
          "output_type": "stream",
          "name": "stdout",
          "text": [
            "Requirement already satisfied: mlxtend==0.18.0 in /usr/local/lib/python3.7/dist-packages (0.18.0)\n",
            "Requirement already satisfied: numpy>=1.16.2 in /usr/local/lib/python3.7/dist-packages (from mlxtend==0.18.0) (1.21.5)\n",
            "Requirement already satisfied: scipy>=1.2.1 in /usr/local/lib/python3.7/dist-packages (from mlxtend==0.18.0) (1.4.1)\n",
            "Requirement already satisfied: setuptools in /usr/local/lib/python3.7/dist-packages (from mlxtend==0.18.0) (57.4.0)\n",
            "Requirement already satisfied: matplotlib>=3.0.0 in /usr/local/lib/python3.7/dist-packages (from mlxtend==0.18.0) (3.2.2)\n",
            "Requirement already satisfied: joblib>=0.13.2 in /usr/local/lib/python3.7/dist-packages (from mlxtend==0.18.0) (1.1.0)\n",
            "Requirement already satisfied: pandas>=0.24.2 in /usr/local/lib/python3.7/dist-packages (from mlxtend==0.18.0) (1.3.5)\n",
            "Requirement already satisfied: scikit-learn>=0.20.3 in /usr/local/lib/python3.7/dist-packages (from mlxtend==0.18.0) (1.0.2)\n",
            "Requirement already satisfied: python-dateutil>=2.1 in /usr/local/lib/python3.7/dist-packages (from matplotlib>=3.0.0->mlxtend==0.18.0) (2.8.2)\n",
            "Requirement already satisfied: cycler>=0.10 in /usr/local/lib/python3.7/dist-packages (from matplotlib>=3.0.0->mlxtend==0.18.0) (0.11.0)\n",
            "Requirement already satisfied: kiwisolver>=1.0.1 in /usr/local/lib/python3.7/dist-packages (from matplotlib>=3.0.0->mlxtend==0.18.0) (1.3.2)\n",
            "Requirement already satisfied: pyparsing!=2.0.4,!=2.1.2,!=2.1.6,>=2.0.1 in /usr/local/lib/python3.7/dist-packages (from matplotlib>=3.0.0->mlxtend==0.18.0) (3.0.7)\n",
            "Requirement already satisfied: pytz>=2017.3 in /usr/local/lib/python3.7/dist-packages (from pandas>=0.24.2->mlxtend==0.18.0) (2018.9)\n",
            "Requirement already satisfied: six>=1.5 in /usr/local/lib/python3.7/dist-packages (from python-dateutil>=2.1->matplotlib>=3.0.0->mlxtend==0.18.0) (1.15.0)\n",
            "Requirement already satisfied: threadpoolctl>=2.0.0 in /usr/local/lib/python3.7/dist-packages (from scikit-learn>=0.20.3->mlxtend==0.18.0) (3.1.0)\n"
          ]
        }
      ]
    },
    {
      "cell_type": "code",
      "metadata": {
        "id": "BJ5pOl_IjDyO"
      },
      "source": [
        "import numpy as np\n",
        "import pandas as pd\n",
        "from sklearn import datasets\n",
        "from sklearn.model_selection import cross_val_score, train_test_split, cross_val_predict, KFold\n",
        "from sklearn.preprocessing import LabelEncoder\n",
        "from sklearn.linear_model import LogisticRegression\n",
        "from sklearn.naive_bayes import GaussianNB \n",
        "from sklearn.tree import DecisionTreeClassifier\n",
        "from sklearn.ensemble import RandomForestClassifier\n",
        "from mlxtend.classifier import EnsembleVoteClassifier, StackingCVClassifier\n",
        "from sklearn.metrics import accuracy_score, confusion_matrix, f1_score\n",
        "\n",
        "from warnings import filterwarnings\n",
        "filterwarnings('ignore')"
      ],
      "execution_count": null,
      "outputs": []
    },
    {
      "cell_type": "code",
      "metadata": {
        "id": "fpFzLNMam0AH",
        "colab": {
          "base_uri": "https://localhost:8080/",
          "height": 270
        },
        "outputId": "461e1c7f-1de5-4300-c757-cc7b1fa042fc"
      },
      "source": [
        "df = pd.read_csv('/content/train_credit_risk.csv')\n",
        "df.head()"
      ],
      "execution_count": null,
      "outputs": [
        {
          "output_type": "execute_result",
          "data": {
            "text/html": [
              "\n",
              "  <div id=\"df-b6f05c15-b691-4675-ba15-2ce57dbc64aa\">\n",
              "    <div class=\"colab-df-container\">\n",
              "      <div>\n",
              "<style scoped>\n",
              "    .dataframe tbody tr th:only-of-type {\n",
              "        vertical-align: middle;\n",
              "    }\n",
              "\n",
              "    .dataframe tbody tr th {\n",
              "        vertical-align: top;\n",
              "    }\n",
              "\n",
              "    .dataframe thead th {\n",
              "        text-align: right;\n",
              "    }\n",
              "</style>\n",
              "<table border=\"1\" class=\"dataframe\">\n",
              "  <thead>\n",
              "    <tr style=\"text-align: right;\">\n",
              "      <th></th>\n",
              "      <th>loan_amnt</th>\n",
              "      <th>funded_amnt</th>\n",
              "      <th>pymnt_plan</th>\n",
              "      <th>grade</th>\n",
              "      <th>sub_grade_num</th>\n",
              "      <th>short_emp</th>\n",
              "      <th>emp_length_num</th>\n",
              "      <th>home_ownership</th>\n",
              "      <th>dti</th>\n",
              "      <th>purpose</th>\n",
              "      <th>payment_inc_ratio</th>\n",
              "      <th>delinq_2yrs</th>\n",
              "      <th>delinq_2yrs_zero</th>\n",
              "      <th>inq_last_6mths</th>\n",
              "      <th>last_delinq_none</th>\n",
              "      <th>last_major_derog_none</th>\n",
              "      <th>open_acc</th>\n",
              "      <th>pub_rec</th>\n",
              "      <th>pub_rec_zero</th>\n",
              "      <th>revol_util</th>\n",
              "      <th>bad_loans</th>\n",
              "    </tr>\n",
              "  </thead>\n",
              "  <tbody>\n",
              "    <tr>\n",
              "      <th>0</th>\n",
              "      <td>5000</td>\n",
              "      <td>5000</td>\n",
              "      <td>n</td>\n",
              "      <td>B</td>\n",
              "      <td>0.4</td>\n",
              "      <td>0</td>\n",
              "      <td>11</td>\n",
              "      <td>RENT</td>\n",
              "      <td>27.65</td>\n",
              "      <td>credit_card</td>\n",
              "      <td>8.14350</td>\n",
              "      <td>0.0</td>\n",
              "      <td>1.0</td>\n",
              "      <td>1.0</td>\n",
              "      <td>1</td>\n",
              "      <td>1</td>\n",
              "      <td>3.0</td>\n",
              "      <td>0.0</td>\n",
              "      <td>1.0</td>\n",
              "      <td>83.7</td>\n",
              "      <td>0</td>\n",
              "    </tr>\n",
              "    <tr>\n",
              "      <th>1</th>\n",
              "      <td>2400</td>\n",
              "      <td>2400</td>\n",
              "      <td>n</td>\n",
              "      <td>C</td>\n",
              "      <td>1.0</td>\n",
              "      <td>0</td>\n",
              "      <td>11</td>\n",
              "      <td>RENT</td>\n",
              "      <td>8.72</td>\n",
              "      <td>small_business</td>\n",
              "      <td>8.25955</td>\n",
              "      <td>0.0</td>\n",
              "      <td>1.0</td>\n",
              "      <td>2.0</td>\n",
              "      <td>1</td>\n",
              "      <td>1</td>\n",
              "      <td>2.0</td>\n",
              "      <td>0.0</td>\n",
              "      <td>1.0</td>\n",
              "      <td>98.5</td>\n",
              "      <td>0</td>\n",
              "    </tr>\n",
              "    <tr>\n",
              "      <th>2</th>\n",
              "      <td>5000</td>\n",
              "      <td>5000</td>\n",
              "      <td>n</td>\n",
              "      <td>A</td>\n",
              "      <td>0.8</td>\n",
              "      <td>0</td>\n",
              "      <td>4</td>\n",
              "      <td>RENT</td>\n",
              "      <td>11.20</td>\n",
              "      <td>wedding</td>\n",
              "      <td>5.21533</td>\n",
              "      <td>0.0</td>\n",
              "      <td>1.0</td>\n",
              "      <td>3.0</td>\n",
              "      <td>1</td>\n",
              "      <td>1</td>\n",
              "      <td>9.0</td>\n",
              "      <td>0.0</td>\n",
              "      <td>1.0</td>\n",
              "      <td>28.3</td>\n",
              "      <td>0</td>\n",
              "    </tr>\n",
              "    <tr>\n",
              "      <th>3</th>\n",
              "      <td>3000</td>\n",
              "      <td>3000</td>\n",
              "      <td>n</td>\n",
              "      <td>E</td>\n",
              "      <td>0.2</td>\n",
              "      <td>0</td>\n",
              "      <td>10</td>\n",
              "      <td>RENT</td>\n",
              "      <td>5.35</td>\n",
              "      <td>car</td>\n",
              "      <td>2.73575</td>\n",
              "      <td>0.0</td>\n",
              "      <td>1.0</td>\n",
              "      <td>2.0</td>\n",
              "      <td>1</td>\n",
              "      <td>1</td>\n",
              "      <td>4.0</td>\n",
              "      <td>0.0</td>\n",
              "      <td>1.0</td>\n",
              "      <td>87.5</td>\n",
              "      <td>0</td>\n",
              "    </tr>\n",
              "    <tr>\n",
              "      <th>4</th>\n",
              "      <td>5600</td>\n",
              "      <td>5600</td>\n",
              "      <td>n</td>\n",
              "      <td>F</td>\n",
              "      <td>0.4</td>\n",
              "      <td>0</td>\n",
              "      <td>5</td>\n",
              "      <td>OWN</td>\n",
              "      <td>5.55</td>\n",
              "      <td>small_business</td>\n",
              "      <td>4.57170</td>\n",
              "      <td>0.0</td>\n",
              "      <td>1.0</td>\n",
              "      <td>2.0</td>\n",
              "      <td>1</td>\n",
              "      <td>1</td>\n",
              "      <td>11.0</td>\n",
              "      <td>0.0</td>\n",
              "      <td>1.0</td>\n",
              "      <td>32.6</td>\n",
              "      <td>1</td>\n",
              "    </tr>\n",
              "  </tbody>\n",
              "</table>\n",
              "</div>\n",
              "      <button class=\"colab-df-convert\" onclick=\"convertToInteractive('df-b6f05c15-b691-4675-ba15-2ce57dbc64aa')\"\n",
              "              title=\"Convert this dataframe to an interactive table.\"\n",
              "              style=\"display:none;\">\n",
              "        \n",
              "  <svg xmlns=\"http://www.w3.org/2000/svg\" height=\"24px\"viewBox=\"0 0 24 24\"\n",
              "       width=\"24px\">\n",
              "    <path d=\"M0 0h24v24H0V0z\" fill=\"none\"/>\n",
              "    <path d=\"M18.56 5.44l.94 2.06.94-2.06 2.06-.94-2.06-.94-.94-2.06-.94 2.06-2.06.94zm-11 1L8.5 8.5l.94-2.06 2.06-.94-2.06-.94L8.5 2.5l-.94 2.06-2.06.94zm10 10l.94 2.06.94-2.06 2.06-.94-2.06-.94-.94-2.06-.94 2.06-2.06.94z\"/><path d=\"M17.41 7.96l-1.37-1.37c-.4-.4-.92-.59-1.43-.59-.52 0-1.04.2-1.43.59L10.3 9.45l-7.72 7.72c-.78.78-.78 2.05 0 2.83L4 21.41c.39.39.9.59 1.41.59.51 0 1.02-.2 1.41-.59l7.78-7.78 2.81-2.81c.8-.78.8-2.07 0-2.86zM5.41 20L4 18.59l7.72-7.72 1.47 1.35L5.41 20z\"/>\n",
              "  </svg>\n",
              "      </button>\n",
              "      \n",
              "  <style>\n",
              "    .colab-df-container {\n",
              "      display:flex;\n",
              "      flex-wrap:wrap;\n",
              "      gap: 12px;\n",
              "    }\n",
              "\n",
              "    .colab-df-convert {\n",
              "      background-color: #E8F0FE;\n",
              "      border: none;\n",
              "      border-radius: 50%;\n",
              "      cursor: pointer;\n",
              "      display: none;\n",
              "      fill: #1967D2;\n",
              "      height: 32px;\n",
              "      padding: 0 0 0 0;\n",
              "      width: 32px;\n",
              "    }\n",
              "\n",
              "    .colab-df-convert:hover {\n",
              "      background-color: #E2EBFA;\n",
              "      box-shadow: 0px 1px 2px rgba(60, 64, 67, 0.3), 0px 1px 3px 1px rgba(60, 64, 67, 0.15);\n",
              "      fill: #174EA6;\n",
              "    }\n",
              "\n",
              "    [theme=dark] .colab-df-convert {\n",
              "      background-color: #3B4455;\n",
              "      fill: #D2E3FC;\n",
              "    }\n",
              "\n",
              "    [theme=dark] .colab-df-convert:hover {\n",
              "      background-color: #434B5C;\n",
              "      box-shadow: 0px 1px 3px 1px rgba(0, 0, 0, 0.15);\n",
              "      filter: drop-shadow(0px 1px 2px rgba(0, 0, 0, 0.3));\n",
              "      fill: #FFFFFF;\n",
              "    }\n",
              "  </style>\n",
              "\n",
              "      <script>\n",
              "        const buttonEl =\n",
              "          document.querySelector('#df-b6f05c15-b691-4675-ba15-2ce57dbc64aa button.colab-df-convert');\n",
              "        buttonEl.style.display =\n",
              "          google.colab.kernel.accessAllowed ? 'block' : 'none';\n",
              "\n",
              "        async function convertToInteractive(key) {\n",
              "          const element = document.querySelector('#df-b6f05c15-b691-4675-ba15-2ce57dbc64aa');\n",
              "          const dataTable =\n",
              "            await google.colab.kernel.invokeFunction('convertToInteractive',\n",
              "                                                     [key], {});\n",
              "          if (!dataTable) return;\n",
              "\n",
              "          const docLinkHtml = 'Like what you see? Visit the ' +\n",
              "            '<a target=\"_blank\" href=https://colab.research.google.com/notebooks/data_table.ipynb>data table notebook</a>'\n",
              "            + ' to learn more about interactive tables.';\n",
              "          element.innerHTML = '';\n",
              "          dataTable['output_type'] = 'display_data';\n",
              "          await google.colab.output.renderOutput(dataTable, element);\n",
              "          const docLink = document.createElement('div');\n",
              "          docLink.innerHTML = docLinkHtml;\n",
              "          element.appendChild(docLink);\n",
              "        }\n",
              "      </script>\n",
              "    </div>\n",
              "  </div>\n",
              "  "
            ],
            "text/plain": [
              "   loan_amnt  funded_amnt pymnt_plan  ... pub_rec_zero  revol_util  bad_loans\n",
              "0       5000         5000          n  ...          1.0        83.7          0\n",
              "1       2400         2400          n  ...          1.0        98.5          0\n",
              "2       5000         5000          n  ...          1.0        28.3          0\n",
              "3       3000         3000          n  ...          1.0        87.5          0\n",
              "4       5600         5600          n  ...          1.0        32.6          1\n",
              "\n",
              "[5 rows x 21 columns]"
            ]
          },
          "metadata": {},
          "execution_count": 4
        }
      ]
    },
    {
      "cell_type": "code",
      "metadata": {
        "id": "rLFr8z3ZjDyY",
        "colab": {
          "base_uri": "https://localhost:8080/"
        },
        "outputId": "4a515677-7a0c-44d6-abac-10693ae69e11"
      },
      "source": [
        "X = df.drop('bad_loans', axis=1)\n",
        "y = df['bad_loans']\n",
        "y.value_counts()"
      ],
      "execution_count": null,
      "outputs": [
        {
          "output_type": "execute_result",
          "data": {
            "text/plain": [
              "0    66266\n",
              "1    15472\n",
              "Name: bad_loans, dtype: int64"
            ]
          },
          "metadata": {},
          "execution_count": 5
        }
      ]
    },
    {
      "cell_type": "code",
      "metadata": {
        "id": "P0j5VRlRpgp9"
      },
      "source": [
        "LE = LabelEncoder()\n",
        "for c in X.columns:\n",
        "  if X[c].dtypes=='object':\n",
        "    X[c] = LE.fit_transform(X[c])\n",
        "X = X.fillna(0)"
      ],
      "execution_count": null,
      "outputs": []
    },
    {
      "cell_type": "code",
      "metadata": {
        "id": "2a_VKiWgjDye"
      },
      "source": [
        ""
      ],
      "execution_count": null,
      "outputs": []
    },
    {
      "cell_type": "code",
      "metadata": {
        "id": "eqiuUducjDyj",
        "colab": {
          "base_uri": "https://localhost:8080/"
        },
        "outputId": "57faded2-f32d-424d-ff61-de99d99cb4b3"
      },
      "source": [
        "from mlxtend.classifier import EnsembleVoteClassifier\n",
        "\n",
        "clf1 = LogisticRegression(random_state=1)\n",
        "clf2 = DecisionTreeClassifier(random_state=1, class_weight='balanced')\n",
        "clf3 = GaussianNB()\n",
        "\n",
        "vclf = EnsembleVoteClassifier(clfs=[clf1, clf2, clf3], weights=[3,2,4], voting='soft')\n",
        "scores = cross_val_score(vclf, X, y, cv=5, scoring='f1')\n",
        "print(scores.mean())"
      ],
      "execution_count": null,
      "outputs": [
        {
          "output_type": "stream",
          "name": "stdout",
          "text": [
            "nan\n"
          ]
        }
      ]
    },
    {
      "cell_type": "code",
      "metadata": {
        "id": "shMCSx3djDyp"
      },
      "source": [
        "Xtrain, Xtest, Ytrain, Ytest = train_test_split(X, y, test_size=0.2)"
      ],
      "execution_count": null,
      "outputs": []
    },
    {
      "cell_type": "code",
      "metadata": {
        "id": "_MxIjDMkjDyt",
        "colab": {
          "base_uri": "https://localhost:8080/"
        },
        "outputId": "5fa76083-0d35-482d-9f9e-cdbcfeb7043e"
      },
      "source": [
        "vclf.fit(Xtrain, Ytrain)\n",
        "pred = vclf.predict(Xtest)\n",
        "print(accuracy_score(Ytest, pred))\n",
        "print(confusion_matrix(Ytest, pred))"
      ],
      "execution_count": null,
      "outputs": [
        {
          "output_type": "stream",
          "name": "stdout",
          "text": [
            "0.9333333333333333\n",
            "[[12  0  0]\n",
            " [ 0  8  2]\n",
            " [ 0  0  8]]\n"
          ]
        }
      ]
    },
    {
      "cell_type": "code",
      "metadata": {
        "id": "mHU7wL8UjDyy",
        "colab": {
          "base_uri": "https://localhost:8080/"
        },
        "outputId": "12838a45-6b95-479c-bb84-983509430e6c"
      },
      "source": [
        "from sklearn.ensemble import BaggingClassifier\n",
        "bclf = BaggingClassifier(base_estimator=clf3, n_estimators=20, max_samples=0.9, random_state=2020)\n",
        "scores = cross_val_score(bclf, X, y, cv=5, scoring='f1')\n",
        "print(scores.mean())"
      ],
      "execution_count": null,
      "outputs": [
        {
          "output_type": "stream",
          "name": "stdout",
          "text": [
            "nan\n"
          ]
        }
      ]
    },
    {
      "cell_type": "code",
      "metadata": {
        "id": "vfPlXdoFjDy9",
        "colab": {
          "base_uri": "https://localhost:8080/"
        },
        "outputId": "234e4b8e-3fa5-4194-c3f4-7f43fd35b89e"
      },
      "source": [
        "from sklearn.ensemble import RandomForestClassifier\n",
        "rclf = RandomForestClassifier(random_state=2020, criterion='gini', max_depth=3, min_samples_split=3,\n",
        "                             n_estimators=120, max_features=0.9, class_weight='balanced')\n",
        "scores = cross_val_score(rclf, X, y, cv=4, scoring='f1')\n",
        "print(scores.mean())"
      ],
      "execution_count": null,
      "outputs": [
        {
          "output_type": "stream",
          "name": "stdout",
          "text": [
            "nan\n"
          ]
        }
      ]
    },
    {
      "cell_type": "code",
      "metadata": {
        "id": "7tnWRlMyjDy5",
        "colab": {
          "base_uri": "https://localhost:8080/"
        },
        "outputId": "0be18841-c269-444e-9a3f-f95a2b19fbca"
      },
      "source": [
        "from sklearn.ensemble import AdaBoostClassifier\n",
        "aclf = AdaBoostClassifier(n_estimators=50)\n",
        "scores = cross_val_score(aclf, X, y, cv=5, scoring='f1')\n",
        "print(scores.mean())"
      ],
      "execution_count": null,
      "outputs": [
        {
          "output_type": "stream",
          "name": "stdout",
          "text": [
            "nan\n"
          ]
        }
      ]
    },
    {
      "cell_type": "code",
      "source": [
        "pred1 = dt.predict(test)\n",
        "pred2 = nb.predict(test)\n",
        "pred3 = kn.predict(test)\n",
        "\n",
        "pred = (pred1+pred2+pred3)/3 # averaging\n",
        "pred = pred1*0.2 + pred2*0.4 + pred3*0.4 # weighted averaging"
      ],
      "metadata": {
        "id": "1MeSPVIqtCbj"
      },
      "execution_count": null,
      "outputs": []
    },
    {
      "cell_type": "code",
      "metadata": {
        "id": "enZvnb4RjDzK"
      },
      "source": [
        "iris = datasets.load_iris()\n",
        "X, y = iris.data[:, 1:3], iris.target"
      ],
      "execution_count": null,
      "outputs": []
    },
    {
      "cell_type": "code",
      "metadata": {
        "id": "zqtW_5OsjDzP",
        "colab": {
          "base_uri": "https://localhost:8080/"
        },
        "outputId": "78bd9b55-5f43-48cd-e67d-16ee0b3e7a35"
      },
      "source": [
        "lr = LogisticRegression()\n",
        "sclf = StackingCVClassifier(classifiers=[clf1, clf2, clf3], meta_classifier=lr)\n",
        "scores = cross_val_score(sclf, X, y, cv=5, scoring='accuracy')\n",
        "print(scores.mean())"
      ],
      "execution_count": null,
      "outputs": [
        {
          "output_type": "stream",
          "name": "stdout",
          "text": [
            "0.9533333333333334\n"
          ]
        }
      ]
    },
    {
      "cell_type": "code",
      "metadata": {
        "id": "gmm0Lri7M2_h"
      },
      "source": [
        ""
      ],
      "execution_count": null,
      "outputs": []
    },
    {
      "cell_type": "code",
      "source": [
        "df = pd.read_csv('/content/train_insurance.csv')\n",
        "df.head()"
      ],
      "metadata": {
        "colab": {
          "base_uri": "https://localhost:8080/",
          "height": 270
        },
        "id": "zSJocvyHwYUM",
        "outputId": "e5b2b13e-9a02-4f17-b04a-75dba9703e59"
      },
      "execution_count": null,
      "outputs": [
        {
          "output_type": "execute_result",
          "data": {
            "text/html": [
              "\n",
              "  <div id=\"df-211095d4-2f7e-4c37-a999-8f8c5396b8ea\">\n",
              "    <div class=\"colab-df-container\">\n",
              "      <div>\n",
              "<style scoped>\n",
              "    .dataframe tbody tr th:only-of-type {\n",
              "        vertical-align: middle;\n",
              "    }\n",
              "\n",
              "    .dataframe tbody tr th {\n",
              "        vertical-align: top;\n",
              "    }\n",
              "\n",
              "    .dataframe thead th {\n",
              "        text-align: right;\n",
              "    }\n",
              "</style>\n",
              "<table border=\"1\" class=\"dataframe\">\n",
              "  <thead>\n",
              "    <tr style=\"text-align: right;\">\n",
              "      <th></th>\n",
              "      <th>perc_premium_paid_by_cash_credit</th>\n",
              "      <th>age_in_days</th>\n",
              "      <th>Income</th>\n",
              "      <th>Count_3.6_months_late</th>\n",
              "      <th>Count_6.12_months_late</th>\n",
              "      <th>Count_more_than_12_months_late</th>\n",
              "      <th>application_underwriting_score</th>\n",
              "      <th>no_of_premiums_paid</th>\n",
              "      <th>sourcing_channel</th>\n",
              "      <th>residence_area_type</th>\n",
              "      <th>premium</th>\n",
              "      <th>renewal</th>\n",
              "    </tr>\n",
              "  </thead>\n",
              "  <tbody>\n",
              "    <tr>\n",
              "      <th>0</th>\n",
              "      <td>0.429</td>\n",
              "      <td>12058</td>\n",
              "      <td>355060</td>\n",
              "      <td>0.0</td>\n",
              "      <td>0.0</td>\n",
              "      <td>0.0</td>\n",
              "      <td>99.02</td>\n",
              "      <td>13</td>\n",
              "      <td>C</td>\n",
              "      <td>Urban</td>\n",
              "      <td>3300</td>\n",
              "      <td>1</td>\n",
              "    </tr>\n",
              "    <tr>\n",
              "      <th>1</th>\n",
              "      <td>0.917</td>\n",
              "      <td>17531</td>\n",
              "      <td>84140</td>\n",
              "      <td>2.0</td>\n",
              "      <td>3.0</td>\n",
              "      <td>1.0</td>\n",
              "      <td>98.69</td>\n",
              "      <td>7</td>\n",
              "      <td>C</td>\n",
              "      <td>Rural</td>\n",
              "      <td>3300</td>\n",
              "      <td>0</td>\n",
              "    </tr>\n",
              "    <tr>\n",
              "      <th>2</th>\n",
              "      <td>0.049</td>\n",
              "      <td>15341</td>\n",
              "      <td>250510</td>\n",
              "      <td>0.0</td>\n",
              "      <td>0.0</td>\n",
              "      <td>0.0</td>\n",
              "      <td>99.57</td>\n",
              "      <td>9</td>\n",
              "      <td>A</td>\n",
              "      <td>Urban</td>\n",
              "      <td>9600</td>\n",
              "      <td>1</td>\n",
              "    </tr>\n",
              "    <tr>\n",
              "      <th>3</th>\n",
              "      <td>0.052</td>\n",
              "      <td>31400</td>\n",
              "      <td>198680</td>\n",
              "      <td>0.0</td>\n",
              "      <td>0.0</td>\n",
              "      <td>0.0</td>\n",
              "      <td>99.87</td>\n",
              "      <td>12</td>\n",
              "      <td>B</td>\n",
              "      <td>Urban</td>\n",
              "      <td>9600</td>\n",
              "      <td>1</td>\n",
              "    </tr>\n",
              "    <tr>\n",
              "      <th>4</th>\n",
              "      <td>1.000</td>\n",
              "      <td>24829</td>\n",
              "      <td>118400</td>\n",
              "      <td>0.0</td>\n",
              "      <td>0.0</td>\n",
              "      <td>0.0</td>\n",
              "      <td>99.05</td>\n",
              "      <td>11</td>\n",
              "      <td>B</td>\n",
              "      <td>Urban</td>\n",
              "      <td>7500</td>\n",
              "      <td>1</td>\n",
              "    </tr>\n",
              "  </tbody>\n",
              "</table>\n",
              "</div>\n",
              "      <button class=\"colab-df-convert\" onclick=\"convertToInteractive('df-211095d4-2f7e-4c37-a999-8f8c5396b8ea')\"\n",
              "              title=\"Convert this dataframe to an interactive table.\"\n",
              "              style=\"display:none;\">\n",
              "        \n",
              "  <svg xmlns=\"http://www.w3.org/2000/svg\" height=\"24px\"viewBox=\"0 0 24 24\"\n",
              "       width=\"24px\">\n",
              "    <path d=\"M0 0h24v24H0V0z\" fill=\"none\"/>\n",
              "    <path d=\"M18.56 5.44l.94 2.06.94-2.06 2.06-.94-2.06-.94-.94-2.06-.94 2.06-2.06.94zm-11 1L8.5 8.5l.94-2.06 2.06-.94-2.06-.94L8.5 2.5l-.94 2.06-2.06.94zm10 10l.94 2.06.94-2.06 2.06-.94-2.06-.94-.94-2.06-.94 2.06-2.06.94z\"/><path d=\"M17.41 7.96l-1.37-1.37c-.4-.4-.92-.59-1.43-.59-.52 0-1.04.2-1.43.59L10.3 9.45l-7.72 7.72c-.78.78-.78 2.05 0 2.83L4 21.41c.39.39.9.59 1.41.59.51 0 1.02-.2 1.41-.59l7.78-7.78 2.81-2.81c.8-.78.8-2.07 0-2.86zM5.41 20L4 18.59l7.72-7.72 1.47 1.35L5.41 20z\"/>\n",
              "  </svg>\n",
              "      </button>\n",
              "      \n",
              "  <style>\n",
              "    .colab-df-container {\n",
              "      display:flex;\n",
              "      flex-wrap:wrap;\n",
              "      gap: 12px;\n",
              "    }\n",
              "\n",
              "    .colab-df-convert {\n",
              "      background-color: #E8F0FE;\n",
              "      border: none;\n",
              "      border-radius: 50%;\n",
              "      cursor: pointer;\n",
              "      display: none;\n",
              "      fill: #1967D2;\n",
              "      height: 32px;\n",
              "      padding: 0 0 0 0;\n",
              "      width: 32px;\n",
              "    }\n",
              "\n",
              "    .colab-df-convert:hover {\n",
              "      background-color: #E2EBFA;\n",
              "      box-shadow: 0px 1px 2px rgba(60, 64, 67, 0.3), 0px 1px 3px 1px rgba(60, 64, 67, 0.15);\n",
              "      fill: #174EA6;\n",
              "    }\n",
              "\n",
              "    [theme=dark] .colab-df-convert {\n",
              "      background-color: #3B4455;\n",
              "      fill: #D2E3FC;\n",
              "    }\n",
              "\n",
              "    [theme=dark] .colab-df-convert:hover {\n",
              "      background-color: #434B5C;\n",
              "      box-shadow: 0px 1px 3px 1px rgba(0, 0, 0, 0.15);\n",
              "      filter: drop-shadow(0px 1px 2px rgba(0, 0, 0, 0.3));\n",
              "      fill: #FFFFFF;\n",
              "    }\n",
              "  </style>\n",
              "\n",
              "      <script>\n",
              "        const buttonEl =\n",
              "          document.querySelector('#df-211095d4-2f7e-4c37-a999-8f8c5396b8ea button.colab-df-convert');\n",
              "        buttonEl.style.display =\n",
              "          google.colab.kernel.accessAllowed ? 'block' : 'none';\n",
              "\n",
              "        async function convertToInteractive(key) {\n",
              "          const element = document.querySelector('#df-211095d4-2f7e-4c37-a999-8f8c5396b8ea');\n",
              "          const dataTable =\n",
              "            await google.colab.kernel.invokeFunction('convertToInteractive',\n",
              "                                                     [key], {});\n",
              "          if (!dataTable) return;\n",
              "\n",
              "          const docLinkHtml = 'Like what you see? Visit the ' +\n",
              "            '<a target=\"_blank\" href=https://colab.research.google.com/notebooks/data_table.ipynb>data table notebook</a>'\n",
              "            + ' to learn more about interactive tables.';\n",
              "          element.innerHTML = '';\n",
              "          dataTable['output_type'] = 'display_data';\n",
              "          await google.colab.output.renderOutput(dataTable, element);\n",
              "          const docLink = document.createElement('div');\n",
              "          docLink.innerHTML = docLinkHtml;\n",
              "          element.appendChild(docLink);\n",
              "        }\n",
              "      </script>\n",
              "    </div>\n",
              "  </div>\n",
              "  "
            ],
            "text/plain": [
              "   perc_premium_paid_by_cash_credit  age_in_days  ...  premium  renewal\n",
              "0                             0.429        12058  ...     3300        1\n",
              "1                             0.917        17531  ...     3300        0\n",
              "2                             0.049        15341  ...     9600        1\n",
              "3                             0.052        31400  ...     9600        1\n",
              "4                             1.000        24829  ...     7500        1\n",
              "\n",
              "[5 rows x 12 columns]"
            ]
          },
          "metadata": {},
          "execution_count": 17
        }
      ]
    },
    {
      "cell_type": "code",
      "source": [
        "X = df.drop('renewal', axis=1)\n",
        "y = df['renewal']\n",
        "y.value_counts()"
      ],
      "metadata": {
        "colab": {
          "base_uri": "https://localhost:8080/"
        },
        "id": "BbJ4ESgHwYVx",
        "outputId": "e3657347-bf88-43d5-e35d-c930731d25b3"
      },
      "execution_count": null,
      "outputs": [
        {
          "output_type": "execute_result",
          "data": {
            "text/plain": [
              "1    49933\n",
              "0     3303\n",
              "Name: renewal, dtype: int64"
            ]
          },
          "metadata": {},
          "execution_count": 18
        }
      ]
    },
    {
      "cell_type": "code",
      "source": [
        "# X = X.fillna(-1)\n",
        "X.isnull().sum()"
      ],
      "metadata": {
        "colab": {
          "base_uri": "https://localhost:8080/"
        },
        "id": "fa2T_rjQwfp7",
        "outputId": "d4c680ec-094a-462d-c3d8-be4b8814efe6"
      },
      "execution_count": null,
      "outputs": [
        {
          "output_type": "execute_result",
          "data": {
            "text/plain": [
              "perc_premium_paid_by_cash_credit       0\n",
              "age_in_days                            0\n",
              "Income                                 0\n",
              "Count_3.6_months_late                 64\n",
              "Count_6.12_months_late                64\n",
              "Count_more_than_12_months_late        64\n",
              "application_underwriting_score      1976\n",
              "no_of_premiums_paid                    0\n",
              "sourcing_channel                       0\n",
              "residence_area_type                    0\n",
              "premium                                0\n",
              "dtype: int64"
            ]
          },
          "metadata": {},
          "execution_count": 19
        }
      ]
    },
    {
      "cell_type": "code",
      "source": [
        "LE = LabelEncoder()\n",
        "for c in X.columns:\n",
        "  if X[c].dtypes=='object':\n",
        "    X[c] = LE.fit_transform(X[c])"
      ],
      "metadata": {
        "id": "Cgzk8DTtwi8q"
      },
      "execution_count": null,
      "outputs": []
    },
    {
      "cell_type": "code",
      "source": [
        "Xtrain, Xtest, Ytrain, Ytest = train_test_split(X, y, test_size=0.3) # 70 15 15\n",
        "Xtest, Xvalid, Ytest, Yvalid = train_test_split(Xtest, Ytest, test_size=0.5)\n",
        "print(Ytrain.shape, Ytest.shape, Yvalid.shape)"
      ],
      "metadata": {
        "colab": {
          "base_uri": "https://localhost:8080/"
        },
        "id": "-sevySMAwliy",
        "outputId": "587237d4-bf65-43a7-de7f-65ca17b7fe99"
      },
      "execution_count": null,
      "outputs": [
        {
          "output_type": "stream",
          "name": "stdout",
          "text": [
            "(37265,) (7985,) (7986,)\n"
          ]
        }
      ]
    },
    {
      "cell_type": "code",
      "source": [
        "import xgboost\n",
        "\n",
        "XGB = xgboost.XGBClassifier(random_state=2020, n_estimators=2000, max_depth=8, colsample_bytree=0.85, missing=None,\n",
        "                            scale_pos_weight=0.1, learning_rate=0.008, reg_alpha=2.01, reg_lambda=0.05, verbosity=1)\n",
        "\n",
        "XGB.fit(Xtrain, Ytrain, eval_set=[(Xtrain, Ytrain),(Xvalid, Yvalid)], verbose=2, early_stopping_rounds=10)\n",
        "pred = XGB.predict(Xtest)\n",
        "f1_score(Ytest, pred, pos_label=0)"
      ],
      "metadata": {
        "colab": {
          "base_uri": "https://localhost:8080/"
        },
        "id": "hipOx6vewo-A",
        "outputId": "5c401fbb-40b8-451d-e3ed-c874f9de2173"
      },
      "execution_count": null,
      "outputs": [
        {
          "output_type": "stream",
          "name": "stdout",
          "text": [
            "[0]\tvalidation_0-error:0.192191\tvalidation_1-error:0.200726\n",
            "Multiple eval metrics have been passed: 'validation_1-error' will be used for early stopping.\n",
            "\n",
            "Will train until validation_1-error hasn't improved in 10 rounds.\n",
            "[2]\tvalidation_0-error:0.138307\tvalidation_1-error:0.146632\n",
            "[4]\tvalidation_0-error:0.133262\tvalidation_1-error:0.140997\n",
            "[6]\tvalidation_0-error:0.131222\tvalidation_1-error:0.138367\n",
            "[8]\tvalidation_0-error:0.124943\tvalidation_1-error:0.129351\n",
            "[10]\tvalidation_0-error:0.128029\tvalidation_1-error:0.133484\n",
            "[12]\tvalidation_0-error:0.127251\tvalidation_1-error:0.132607\n",
            "[14]\tvalidation_0-error:0.128754\tvalidation_1-error:0.13436\n",
            "[16]\tvalidation_0-error:0.130149\tvalidation_1-error:0.136113\n",
            "[18]\tvalidation_0-error:0.129451\tvalidation_1-error:0.133609\n",
            "Stopping. Best iteration:\n",
            "[8]\tvalidation_0-error:0.124943\tvalidation_1-error:0.129351\n",
            "\n"
          ]
        },
        {
          "output_type": "execute_result",
          "data": {
            "text/plain": [
              "0.3774792066538708"
            ]
          },
          "metadata": {},
          "execution_count": 23
        }
      ]
    },
    {
      "cell_type": "code",
      "source": [
        "import lightgbm\n",
        "\n",
        "lgb = lightgbm.LGBMClassifier(random_state=2020, n_estimators=2000, num_leaves=31,\n",
        "                              learning_rate=0.011, colsample_bytree=0.85, max_depth=5,\n",
        "                              verbose=1, class_weight={0:0.2, 1:0.8})\n",
        "lgb.fit(Xtrain, Ytrain, eval_set=(Xvalid, Yvalid), verbose=100, early_stopping_rounds=50)\n",
        "pred = lgb.predict(Xtest)\n",
        "print(f1_score(Ytest, pred, pos_label=0))"
      ],
      "metadata": {
        "colab": {
          "base_uri": "https://localhost:8080/"
        },
        "id": "5PkBYsx1w0ra",
        "outputId": "4695e20f-7199-4df9-adbf-aa0679d58caf"
      },
      "execution_count": null,
      "outputs": [
        {
          "output_type": "stream",
          "name": "stdout",
          "text": [
            "Training until validation scores don't improve for 50 rounds.\n",
            "[100]\tvalid_0's binary_logloss: 0.221014\n",
            "[200]\tvalid_0's binary_logloss: 0.213394\n",
            "[300]\tvalid_0's binary_logloss: 0.209699\n",
            "[400]\tvalid_0's binary_logloss: 0.206996\n",
            "[500]\tvalid_0's binary_logloss: 0.205109\n",
            "[600]\tvalid_0's binary_logloss: 0.203445\n",
            "[700]\tvalid_0's binary_logloss: 0.201829\n",
            "[800]\tvalid_0's binary_logloss: 0.200112\n",
            "[900]\tvalid_0's binary_logloss: 0.198108\n",
            "[1000]\tvalid_0's binary_logloss: 0.196241\n",
            "[1100]\tvalid_0's binary_logloss: 0.194546\n",
            "[1200]\tvalid_0's binary_logloss: 0.193135\n",
            "[1300]\tvalid_0's binary_logloss: 0.191656\n",
            "[1400]\tvalid_0's binary_logloss: 0.19016\n",
            "[1500]\tvalid_0's binary_logloss: 0.188879\n",
            "[1600]\tvalid_0's binary_logloss: 0.187114\n",
            "[1700]\tvalid_0's binary_logloss: 0.185622\n",
            "[1800]\tvalid_0's binary_logloss: 0.18421\n",
            "[1900]\tvalid_0's binary_logloss: 0.182823\n",
            "[2000]\tvalid_0's binary_logloss: 0.181686\n",
            "Did not meet early stopping. Best iteration is:\n",
            "[2000]\tvalid_0's binary_logloss: 0.181686\n",
            "0.059241706161137435\n"
          ]
        }
      ]
    },
    {
      "cell_type": "code",
      "source": [
        "!pip install catboost"
      ],
      "metadata": {
        "colab": {
          "base_uri": "https://localhost:8080/"
        },
        "id": "_WDyCHlPxX3o",
        "outputId": "313ccd91-666d-443c-eef5-0bf134e56cf4"
      },
      "execution_count": null,
      "outputs": [
        {
          "output_type": "stream",
          "name": "stdout",
          "text": [
            "Collecting catboost\n",
            "  Downloading catboost-1.0.4-cp37-none-manylinux1_x86_64.whl (76.1 MB)\n",
            "\u001b[K     |████████████████████████████████| 76.1 MB 55 kB/s \n",
            "\u001b[?25hRequirement already satisfied: scipy in /usr/local/lib/python3.7/dist-packages (from catboost) (1.4.1)\n",
            "Requirement already satisfied: graphviz in /usr/local/lib/python3.7/dist-packages (from catboost) (0.10.1)\n",
            "Requirement already satisfied: plotly in /usr/local/lib/python3.7/dist-packages (from catboost) (5.5.0)\n",
            "Requirement already satisfied: pandas>=0.24.0 in /usr/local/lib/python3.7/dist-packages (from catboost) (1.3.5)\n",
            "Requirement already satisfied: matplotlib in /usr/local/lib/python3.7/dist-packages (from catboost) (3.2.2)\n",
            "Requirement already satisfied: six in /usr/local/lib/python3.7/dist-packages (from catboost) (1.15.0)\n",
            "Requirement already satisfied: numpy>=1.16.0 in /usr/local/lib/python3.7/dist-packages (from catboost) (1.21.5)\n",
            "Requirement already satisfied: python-dateutil>=2.7.3 in /usr/local/lib/python3.7/dist-packages (from pandas>=0.24.0->catboost) (2.8.2)\n",
            "Requirement already satisfied: pytz>=2017.3 in /usr/local/lib/python3.7/dist-packages (from pandas>=0.24.0->catboost) (2018.9)\n",
            "Requirement already satisfied: cycler>=0.10 in /usr/local/lib/python3.7/dist-packages (from matplotlib->catboost) (0.11.0)\n",
            "Requirement already satisfied: pyparsing!=2.0.4,!=2.1.2,!=2.1.6,>=2.0.1 in /usr/local/lib/python3.7/dist-packages (from matplotlib->catboost) (3.0.7)\n",
            "Requirement already satisfied: kiwisolver>=1.0.1 in /usr/local/lib/python3.7/dist-packages (from matplotlib->catboost) (1.3.2)\n",
            "Requirement already satisfied: tenacity>=6.2.0 in /usr/local/lib/python3.7/dist-packages (from plotly->catboost) (8.0.1)\n",
            "Installing collected packages: catboost\n",
            "Successfully installed catboost-1.0.4\n"
          ]
        }
      ]
    },
    {
      "cell_type": "code",
      "source": [
        "from catboost import CatBoostClassifier\n",
        "cat_features = ['sourcing_channel', 'residence_area_type']\n",
        "model = CatBoostClassifier(iterations=200, learning_rate=0.1, depth=5, cat_features=cat_features)\n",
        "model.fit(Xtrain, Ytrain, eval_set=(Xtest, Ytest), verbose=10, early_stopping_rounds=50)\n",
        "pred = model.predict(Xtest)\n",
        "f1_score(pred, Ytest, pos_label=0)"
      ],
      "metadata": {
        "colab": {
          "base_uri": "https://localhost:8080/"
        },
        "id": "3P24C52Bw3wI",
        "outputId": "a4ad9e79-def9-4a97-f892-b9b2e9176908"
      },
      "execution_count": null,
      "outputs": [
        {
          "output_type": "stream",
          "name": "stdout",
          "text": [
            "0:\tlearn: 0.5718555\ttest: 0.5716168\tbest: 0.5716168 (0)\ttotal: 82.9ms\tremaining: 16.5s\n",
            "10:\tlearn: 0.2126967\ttest: 0.2117345\tbest: 0.2117345 (10)\ttotal: 447ms\tremaining: 7.68s\n",
            "20:\tlearn: 0.1842447\ttest: 0.1845016\tbest: 0.1845016 (20)\ttotal: 792ms\tremaining: 6.75s\n",
            "30:\tlearn: 0.1790397\ttest: 0.1802562\tbest: 0.1802562 (30)\ttotal: 1.54s\tremaining: 8.42s\n",
            "40:\tlearn: 0.1770372\ttest: 0.1791959\tbest: 0.1791959 (40)\ttotal: 1.96s\tremaining: 7.59s\n",
            "50:\tlearn: 0.1759129\ttest: 0.1786755\tbest: 0.1786755 (50)\ttotal: 2.32s\tremaining: 6.79s\n",
            "60:\tlearn: 0.1749667\ttest: 0.1786394\tbest: 0.1786394 (60)\ttotal: 2.67s\tremaining: 6.09s\n",
            "70:\tlearn: 0.1742051\ttest: 0.1785876\tbest: 0.1785696 (69)\ttotal: 3.02s\tremaining: 5.5s\n",
            "80:\tlearn: 0.1733705\ttest: 0.1785241\tbest: 0.1785241 (80)\ttotal: 3.54s\tremaining: 5.2s\n",
            "90:\tlearn: 0.1726733\ttest: 0.1785603\tbest: 0.1785081 (83)\ttotal: 3.94s\tremaining: 4.72s\n",
            "100:\tlearn: 0.1720429\ttest: 0.1784771\tbest: 0.1784771 (100)\ttotal: 4.31s\tremaining: 4.22s\n",
            "110:\tlearn: 0.1712666\ttest: 0.1783617\tbest: 0.1783490 (108)\ttotal: 4.65s\tremaining: 3.73s\n",
            "120:\tlearn: 0.1705249\ttest: 0.1783286\tbest: 0.1783179 (114)\ttotal: 5.02s\tremaining: 3.28s\n",
            "130:\tlearn: 0.1698031\ttest: 0.1783574\tbest: 0.1782903 (121)\ttotal: 5.5s\tremaining: 2.9s\n",
            "140:\tlearn: 0.1690527\ttest: 0.1785448\tbest: 0.1782903 (121)\ttotal: 6.28s\tremaining: 2.63s\n",
            "150:\tlearn: 0.1684170\ttest: 0.1785194\tbest: 0.1782903 (121)\ttotal: 7.11s\tremaining: 2.31s\n",
            "160:\tlearn: 0.1677235\ttest: 0.1785566\tbest: 0.1782903 (121)\ttotal: 8.01s\tremaining: 1.94s\n",
            "170:\tlearn: 0.1671748\ttest: 0.1785548\tbest: 0.1782903 (121)\ttotal: 8.89s\tremaining: 1.51s\n",
            "Stopped by overfitting detector  (50 iterations wait)\n",
            "\n",
            "bestTest = 0.1782902997\n",
            "bestIteration = 121\n",
            "\n",
            "Shrink model to first 122 iterations.\n"
          ]
        },
        {
          "output_type": "execute_result",
          "data": {
            "text/plain": [
              "0.19839679358717432"
            ]
          },
          "metadata": {},
          "execution_count": 30
        }
      ]
    },
    {
      "cell_type": "code",
      "source": [
        ""
      ],
      "metadata": {
        "id": "DNTT7e6jxWt4"
      },
      "execution_count": null,
      "outputs": []
    }
  ]
}