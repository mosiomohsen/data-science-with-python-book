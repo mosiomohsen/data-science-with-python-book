{
  "nbformat": 4,
  "nbformat_minor": 0,
  "metadata": {
    "colab": {
      "name": "python_book_chapter_3_introduction_to_python.ipynb",
      "provenance": [],
      "collapsed_sections": []
    },
    "kernelspec": {
      "name": "python3",
      "display_name": "Python 3"
    },
    "language_info": {
      "name": "python"
    }
  },
  "cells": [
    {
      "cell_type": "code",
      "execution_count": null,
      "metadata": {
        "id": "6v-BmQ7b_Zc_"
      },
      "outputs": [],
      "source": [
        "userAge=0"
      ]
    },
    {
      "cell_type": "code",
      "source": [
        "userAge, userName = 30, 'Peter'\n"
      ],
      "metadata": {
        "id": "9tkPZOoo_J2y"
      },
      "execution_count": null,
      "outputs": []
    },
    {
      "cell_type": "code",
      "source": [
        "x=5\n",
        "type(x)"
      ],
      "metadata": {
        "colab": {
          "base_uri": "https://localhost:8080/"
        },
        "id": "JH3kEPyaDmMl",
        "outputId": "a6e3fe59-23b8-4879-ef9f-62d1252bcd04"
      },
      "execution_count": null,
      "outputs": [
        {
          "output_type": "execute_result",
          "data": {
            "text/plain": [
              "int"
            ]
          },
          "metadata": {},
          "execution_count": 5
        }
      ]
    },
    {
      "cell_type": "code",
      "source": [
        "x=3.5\n",
        "type(x)"
      ],
      "metadata": {
        "colab": {
          "base_uri": "https://localhost:8080/"
        },
        "id": "N-OOhINvD1Rv",
        "outputId": "5f07573d-73c2-471a-d915-f31e679241eb"
      },
      "execution_count": null,
      "outputs": [
        {
          "output_type": "execute_result",
          "data": {
            "text/plain": [
              "float"
            ]
          },
          "metadata": {},
          "execution_count": 4
        }
      ]
    },
    {
      "cell_type": "code",
      "source": [
        "userName = 'Peter'\n",
        "userSpouseName = 'Janet'\n",
        "userAge= '30'\n",
        "\n",
        "type(userName)"
      ],
      "metadata": {
        "colab": {
          "base_uri": "https://localhost:8080/"
        },
        "id": "yPzn_dBdEkS2",
        "outputId": "36577c68-b5ad-4b5a-f22f-bd2b86d817b3"
      },
      "execution_count": null,
      "outputs": [
        {
          "output_type": "execute_result",
          "data": {
            "text/plain": [
              "str"
            ]
          },
          "metadata": {},
          "execution_count": 13
        }
      ]
    },
    {
      "cell_type": "code",
      "source": [
        "userAge='30'\n",
        "type(userAge)"
      ],
      "metadata": {
        "colab": {
          "base_uri": "https://localhost:8080/"
        },
        "id": "zg9Dop98-_Zi",
        "outputId": "303dcc08-ad1c-4eaa-e5eb-bebc49456aab"
      },
      "execution_count": null,
      "outputs": [
        {
          "output_type": "execute_result",
          "data": {
            "text/plain": [
              "str"
            ]
          },
          "metadata": {},
          "execution_count": 1
        }
      ]
    },
    {
      "cell_type": "code",
      "source": [
        "userAge=30\n",
        "type(userAge)"
      ],
      "metadata": {
        "colab": {
          "base_uri": "https://localhost:8080/"
        },
        "id": "kObV7GMc_NgZ",
        "outputId": "edb09253-eed6-46bf-ce9f-940d4d0019cc"
      },
      "execution_count": null,
      "outputs": [
        {
          "output_type": "execute_result",
          "data": {
            "text/plain": [
              "int"
            ]
          },
          "metadata": {},
          "execution_count": 2
        }
      ]
    },
    {
      "cell_type": "code",
      "source": [
        "userName,userAge='Peter' , '30'\n",
        "print (userName+userAge)"
      ],
      "metadata": {
        "colab": {
          "base_uri": "https://localhost:8080/"
        },
        "id": "uN0iZgxDAsN8",
        "outputId": "74facb2c-be64-46ac-a875-739f73932fe1"
      },
      "execution_count": null,
      "outputs": [
        {
          "output_type": "stream",
          "name": "stdout",
          "text": [
            "Peter30\n"
          ]
        }
      ]
    },
    {
      "cell_type": "code",
      "source": [
        "print ('''Hello World\n",
        ".My name is James and I am 20 years old. ''')"
      ],
      "metadata": {
        "colab": {
          "base_uri": "https://localhost:8080/"
        },
        "id": "IPgCbxzdBW-6",
        "outputId": "46acde51-b79a-4e0b-a9fe-24844348c255"
      },
      "execution_count": null,
      "outputs": [
        {
          "output_type": "stream",
          "name": "stdout",
          "text": [
            "Hello World\n",
            ".My name is James and I am 20 years old. \n"
          ]
        }
      ]
    },
    {
      "cell_type": "code",
      "source": [
        "userage=[21,22,23,24,25]\n",
        "print(userage)"
      ],
      "metadata": {
        "colab": {
          "base_uri": "https://localhost:8080/"
        },
        "id": "yoE4-nCBB5gR",
        "outputId": "0d61e5d8-eff9-4010-fdaa-7e3a9dd5a0d8"
      },
      "execution_count": null,
      "outputs": [
        {
          "output_type": "stream",
          "name": "stdout",
          "text": [
            "[21, 22, 23, 24, 25]\n"
          ]
        }
      ]
    },
    {
      "cell_type": "code",
      "source": [
        "q = [3, 8, 33, 12, 9, 23, 22]\n",
        "q[0]"
      ],
      "metadata": {
        "colab": {
          "base_uri": "https://localhost:8080/"
        },
        "id": "ACIh2MFbCEhs",
        "outputId": "e0735cf6-a7d7-4700-ed83-cd82951a218d"
      },
      "execution_count": null,
      "outputs": [
        {
          "output_type": "execute_result",
          "data": {
            "text/plain": [
              "3"
            ]
          },
          "metadata": {},
          "execution_count": 7
        }
      ]
    },
    {
      "cell_type": "code",
      "source": [
        "q = [3, 8, 33, 12, 9, 23, 22]\n",
        "q[2:5]"
      ],
      "metadata": {
        "colab": {
          "base_uri": "https://localhost:8080/"
        },
        "id": "Jwt4Ae-1FdOb",
        "outputId": "cda69c3c-60a8-4863-b5f5-ae692d27adce"
      },
      "execution_count": null,
      "outputs": [
        {
          "output_type": "execute_result",
          "data": {
            "text/plain": [
              "[33, 12, 9]"
            ]
          },
          "metadata": {},
          "execution_count": 8
        }
      ]
    },
    {
      "cell_type": "code",
      "source": [
        "q = [3, 8, 33, 12, 9, 23, 22]\n",
        "q[-3:]\n"
      ],
      "metadata": {
        "colab": {
          "base_uri": "https://localhost:8080/"
        },
        "id": "4E-Y5pvoGatu",
        "outputId": "e8abda83-c549-4670-b526-112ae2e72243"
      },
      "execution_count": null,
      "outputs": [
        {
          "output_type": "execute_result",
          "data": {
            "text/plain": [
              "[9, 23, 22]"
            ]
          },
          "metadata": {},
          "execution_count": 9
        }
      ]
    },
    {
      "cell_type": "code",
      "source": [
        "q = [3, 8, 33, 12, 9, 23, 22]\n",
        "q[:3]"
      ],
      "metadata": {
        "colab": {
          "base_uri": "https://localhost:8080/"
        },
        "id": "-WdLfjYIClsR",
        "outputId": "7402f478-bf94-4e71-cc21-a0e833b2afe7"
      },
      "execution_count": null,
      "outputs": [
        {
          "output_type": "execute_result",
          "data": {
            "text/plain": [
              "[3, 8, 33]"
            ]
          },
          "metadata": {},
          "execution_count": 10
        }
      ]
    },
    {
      "cell_type": "code",
      "source": [
        "q = [3, 8, 33, 12, 9, 23, 22]\n",
        "q[2:]"
      ],
      "metadata": {
        "colab": {
          "base_uri": "https://localhost:8080/"
        },
        "id": "MpuRt6UetBWb",
        "outputId": "95c02003-8a67-4271-b5c6-30b6f3abc6b3"
      },
      "execution_count": null,
      "outputs": [
        {
          "output_type": "execute_result",
          "data": {
            "text/plain": [
              "[33, 12, 9, 23, 22]"
            ]
          },
          "metadata": {},
          "execution_count": 11
        }
      ]
    },
    {
      "cell_type": "code",
      "source": [
        "Lst=[x**2 for x in range(0,11)]\n",
        "print (Lst)"
      ],
      "metadata": {
        "colab": {
          "base_uri": "https://localhost:8080/"
        },
        "id": "DYFsgOtpC48t",
        "outputId": "e9fb98b7-ab68-4b1f-c522-8a9e2af716a9"
      },
      "execution_count": null,
      "outputs": [
        {
          "output_type": "stream",
          "name": "stdout",
          "text": [
            "[0, 1, 4, 9, 16, 25, 36, 49, 64, 81, 100]\n"
          ]
        }
      ]
    },
    {
      "cell_type": "code",
      "source": [
        "MonthsOfYear = ('Jan', 'Feb', 'Mar', 'Apr', 'May','Jun', 'Jul', 'Aug', 'Sep', 'Oct', 'Nov', 'Dec')\n",
        "print(MonthsOfYear[6])"
      ],
      "metadata": {
        "colab": {
          "base_uri": "https://localhost:8080/"
        },
        "id": "UAZqIJ-5H5uf",
        "outputId": "bbf49048-d801-4613-fc5e-8eb398a29413"
      },
      "execution_count": null,
      "outputs": [
        {
          "output_type": "stream",
          "name": "stdout",
          "text": [
            "Jul\n"
          ]
        }
      ]
    },
    {
      "cell_type": "code",
      "source": [
        "UserNameAndAge = {'Peter':38, 'John':51,'Alex':13,'Alvin':'Not Available'}\n",
        "print(UserNameAndAge)\n",
        "\n"
      ],
      "metadata": {
        "colab": {
          "base_uri": "https://localhost:8080/"
        },
        "id": "sNBxkt8DILps",
        "outputId": "02dbb61e-bb24-4f45-f86b-f53aee70875c"
      },
      "execution_count": null,
      "outputs": [
        {
          "output_type": "stream",
          "name": "stdout",
          "text": [
            "{'Peter': 38, 'John': 51, 'Alex': 13, 'Alvin': 'Not Available'}\n"
          ]
        }
      ]
    },
    {
      "cell_type": "code",
      "source": [
        "UserNameAndAge['John']"
      ],
      "metadata": {
        "colab": {
          "base_uri": "https://localhost:8080/"
        },
        "id": "X0bHzLd6IY4C",
        "outputId": "7a9ea83a-9035-4fd3-9e97-f9a1a78228de"
      },
      "execution_count": null,
      "outputs": [
        {
          "output_type": "execute_result",
          "data": {
            "text/plain": [
              "51"
            ]
          },
          "metadata": {},
          "execution_count": 17
        }
      ]
    },
    {
      "cell_type": "code",
      "source": [
        "num_str='456'\n",
        "num_str=int(num_str)\n",
        "type(num_str)\n"
      ],
      "metadata": {
        "colab": {
          "base_uri": "https://localhost:8080/"
        },
        "id": "VYO7dFn1IhHL",
        "outputId": "9d1ec071-aa91-4f25-ef41-f1fe0202659f"
      },
      "execution_count": null,
      "outputs": [
        {
          "output_type": "execute_result",
          "data": {
            "text/plain": [
              "int"
            ]
          },
          "metadata": {},
          "execution_count": 18
        }
      ]
    },
    {
      "cell_type": "code",
      "source": [
        "5==5 and 2>1\n",
        "5 > 2 or 7 > 10 or 3 == 2"
      ],
      "metadata": {
        "colab": {
          "base_uri": "https://localhost:8080/"
        },
        "id": "0XwzclYAI0y7",
        "outputId": "7a7c68e5-36a0-4827-e195-20991570d951"
      },
      "execution_count": null,
      "outputs": [
        {
          "output_type": "execute_result",
          "data": {
            "text/plain": [
              "True"
            ]
          },
          "metadata": {},
          "execution_count": 19
        }
      ]
    },
    {
      "cell_type": "code",
      "source": [
        "2>5 "
      ],
      "metadata": {
        "colab": {
          "base_uri": "https://localhost:8080/"
        },
        "id": "dzSL3L3ZJCU2",
        "outputId": "55f2cb4e-567d-4325-fdf6-db0bfc0b62f9"
      },
      "execution_count": null,
      "outputs": [
        {
          "output_type": "execute_result",
          "data": {
            "text/plain": [
              "False"
            ]
          },
          "metadata": {},
          "execution_count": 20
        }
      ]
    },
    {
      "cell_type": "code",
      "source": [
        "5>2 or 7>10 or 3==2"
      ],
      "metadata": {
        "colab": {
          "base_uri": "https://localhost:8080/"
        },
        "id": "UuN1uoLmD1RR",
        "outputId": "e4ff3f74-640e-4948-f02a-fc8b853914b0"
      },
      "execution_count": null,
      "outputs": [
        {
          "output_type": "execute_result",
          "data": {
            "text/plain": [
              "True"
            ]
          },
          "metadata": {},
          "execution_count": 21
        }
      ]
    },
    {
      "cell_type": "code",
      "source": [
        "not 2>5"
      ],
      "metadata": {
        "colab": {
          "base_uri": "https://localhost:8080/"
        },
        "id": "dhx2mEwID6yM",
        "outputId": "a5bd4b70-d608-4f14-bd7b-9e158514277d"
      },
      "execution_count": null,
      "outputs": [
        {
          "output_type": "execute_result",
          "data": {
            "text/plain": [
              "True"
            ]
          },
          "metadata": {},
          "execution_count": 22
        }
      ]
    },
    {
      "cell_type": "code",
      "source": [
        "userInput = input('Enter 1 or 2: ')\n",
        "if userInput ==1: \n",
        "    print ('Hello World')\n",
        "else:\n",
        "    print ('You did not enter a valid number')\n"
      ],
      "metadata": {
        "colab": {
          "base_uri": "https://localhost:8080/"
        },
        "id": "NBrRiCQVJRb5",
        "outputId": "48774c94-bc6c-4858-e5af-3adfb87b03ba"
      },
      "execution_count": null,
      "outputs": [
        {
          "output_type": "stream",
          "name": "stdout",
          "text": [
            "Enter 1 or 2: 1\n",
            "You did not enter a valid number\n"
          ]
        }
      ]
    },
    {
      "cell_type": "code",
      "source": [
        "pets = ['cats', 'dogs', 'rabbits', 'hamsters']\n",
        "for myPets in pets:\n",
        "    print (myPets)\n"
      ],
      "metadata": {
        "colab": {
          "base_uri": "https://localhost:8080/"
        },
        "id": "lq8NE-qoJk08",
        "outputId": "0d5edae2-0f02-405e-e910-54fadf0b90e1"
      },
      "execution_count": null,
      "outputs": [
        {
          "output_type": "stream",
          "name": "stdout",
          "text": [
            "cats\n",
            "dogs\n",
            "rabbits\n",
            "hamsters\n"
          ]
        }
      ]
    },
    {
      "cell_type": "code",
      "source": [
        "message='Hello'\n",
        "for i in message:\n",
        "  print(i)"
      ],
      "metadata": {
        "colab": {
          "base_uri": "https://localhost:8080/"
        },
        "id": "rIl7THsgEbUI",
        "outputId": "4cc9c5da-85d0-4f86-94d8-a01b8b01740f"
      },
      "execution_count": null,
      "outputs": [
        {
          "output_type": "stream",
          "name": "stdout",
          "text": [
            "H\n",
            "e\n",
            "l\n",
            "l\n",
            "o\n"
          ]
        }
      ]
    },
    {
      "cell_type": "code",
      "source": [
        "range(5)"
      ],
      "metadata": {
        "colab": {
          "base_uri": "https://localhost:8080/"
        },
        "id": "zVVh3l5uEmuF",
        "outputId": "0de8b636-caf1-4a87-aa1d-19f4efbd5d85"
      },
      "execution_count": null,
      "outputs": [
        {
          "output_type": "execute_result",
          "data": {
            "text/plain": [
              "range(0, 5)"
            ]
          },
          "metadata": {},
          "execution_count": 24
        }
      ]
    },
    {
      "cell_type": "code",
      "source": [
        "range(3,10)"
      ],
      "metadata": {
        "colab": {
          "base_uri": "https://localhost:8080/"
        },
        "id": "iAVX7tK3Er1n",
        "outputId": "61e5c475-cbfd-4aab-9d96-56119d396f84"
      },
      "execution_count": null,
      "outputs": [
        {
          "output_type": "execute_result",
          "data": {
            "text/plain": [
              "range(3, 10)"
            ]
          },
          "metadata": {},
          "execution_count": 25
        }
      ]
    },
    {
      "cell_type": "code",
      "source": [
        "range(4,10,2)"
      ],
      "metadata": {
        "colab": {
          "base_uri": "https://localhost:8080/"
        },
        "id": "9QwjJMhzEvf2",
        "outputId": "8f767cd8-959d-4138-a1ef-eae59b3e5c2b"
      },
      "execution_count": null,
      "outputs": [
        {
          "output_type": "execute_result",
          "data": {
            "text/plain": [
              "range(4, 10, 2)"
            ]
          },
          "metadata": {},
          "execution_count": 26
        }
      ]
    },
    {
      "cell_type": "code",
      "source": [
        "for i in range(5):\n",
        "    print (i)"
      ],
      "metadata": {
        "colab": {
          "base_uri": "https://localhost:8080/"
        },
        "id": "TMyKe0NcJumm",
        "outputId": "9079002a-15fb-4e53-948f-f14d56440137"
      },
      "execution_count": null,
      "outputs": [
        {
          "output_type": "stream",
          "name": "stdout",
          "text": [
            "0\n",
            "1\n",
            "2\n",
            "3\n",
            "4\n"
          ]
        }
      ]
    },
    {
      "cell_type": "code",
      "source": [
        "counter=5\n",
        "while counter>0:\n",
        "  print ('counter = ', counter)\n",
        "  counter=counter-1"
      ],
      "metadata": {
        "colab": {
          "base_uri": "https://localhost:8080/"
        },
        "id": "dxYgrmL1E-HU",
        "outputId": "5e65322e-bdc3-4b85-f4e8-504f15e4c3b5"
      },
      "execution_count": null,
      "outputs": [
        {
          "output_type": "stream",
          "name": "stdout",
          "text": [
            "counter =  5\n",
            "counter =  4\n",
            "counter =  3\n",
            "counter =  2\n",
            "counter =  1\n"
          ]
        }
      ]
    },
    {
      "cell_type": "code",
      "source": [
        "j = 0\n",
        "for i in range(5):\n",
        "    j = j + 2\n",
        "    print ('i = ', i, ', j = ', j)\n",
        "    if j == 6: break    "
      ],
      "metadata": {
        "colab": {
          "base_uri": "https://localhost:8080/"
        },
        "id": "F1eAw8vYFX17",
        "outputId": "84829975-a108-41c4-cd2c-fccddc7dcd48"
      },
      "execution_count": null,
      "outputs": [
        {
          "output_type": "stream",
          "name": "stdout",
          "text": [
            "i =  0 , j =  2\n",
            "i =  1 , j =  4\n",
            "i =  2 , j =  6\n"
          ]
        }
      ]
    },
    {
      "cell_type": "code",
      "source": [
        "def  rect_area(a, b=1.0): \n",
        "        return a*b\n",
        "\n",
        "\n",
        "c=rect_area(20,2)\n",
        "print(c)\n"
      ],
      "metadata": {
        "colab": {
          "base_uri": "https://localhost:8080/"
        },
        "id": "3WJOkFD-STBN",
        "outputId": "d4535221-d2f3-401d-dc07-6fd26fbf6590"
      },
      "execution_count": null,
      "outputs": [
        {
          "output_type": "stream",
          "name": "stdout",
          "text": [
            "40\n"
          ]
        }
      ]
    },
    {
      "cell_type": "code",
      "source": [
        "def  factorial(n): \n",
        " f=1\n",
        " if n<=1:\n",
        "   return f\n",
        " else:\n",
        "  while n>0:\n",
        "\t       f*=n\n",
        "\t       n-=1\n",
        " return f"
      ],
      "metadata": {
        "id": "YSMRQc1yvazC"
      },
      "execution_count": null,
      "outputs": []
    }
  ]
}